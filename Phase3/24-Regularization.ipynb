{
 "cells": [
  {
   "cell_type": "markdown",
   "metadata": {},
   "source": [
    "# Regularization\n",
    "\n",
    "## Why Regularize?\n",
    "\n",
    "In an attempt to fit a good model to data, we often tend to overfit. Regularization discourages overly complex models by penalizing the loss function.\n",
    "\n",
    "### The Bias-Variance Tradeoff\n",
    "\n",
    "When we did Linear Regression, we briefly talked about the Bias-Variance Tradeoff.\n",
    "\n",
    "![](http://scott.fortmann-roe.com/docs/docs/BiasVariance/biasvariance.png)\n",
    "\n",
    "![](https://miro.medium.com/max/544/1*Y-yJiR0FzMgchPA-Fm5c1Q.jpeg)"
   ]
  },
  {
   "cell_type": "markdown",
   "metadata": {},
   "source": [
    "**High bias** \n",
    "\n",
    " - Systematic error in predictions (i.e. the average)\n",
    " - Bias is about the strength of assumptions the model makes\n",
    " - Underfit models tend to have high bias\n",
    "\n",
    "\n",
    "**High variance**\n",
    "\n",
    " - The model is highly sensitive to changes in the data\n",
    " - Overfit models tend to have low bias and high variance\n",
    "    \n",
    "    \n",
    "![](https://gblobscdn.gitbook.com/assets%2F-LvBP1svpACTB1R1x_U4%2F-LvNWUoWieQqaGmU_gl9%2F-LvNoby-llz4QzAK15nL%2Fimage.png?alt=media&token=41720ce9-bb66-4419-9bd8-640abf1fc415)\n",
    "\n",
    " - Underfit Models fail to capture all of the information in the data\n",
    " - Overfit models fit to the noise in the data and fail to generalize\n",
    "\n",
    "\n",
    "**How would we know if our model is over or underfit?**\n",
    " - Train test split & look at the testing error\n",
    " - As model complexity increases so does the possibility for overfitting"
   ]
  },
  {
   "cell_type": "markdown",
   "metadata": {},
   "source": [
    "## Ridge and Lasso\n",
    "\n",
    "Ridge and Lasso regression are two examples of penalized estimation. Penalized estimation makes some or all of the coefficients smaller in magnitude (closer to zero). Some of the penalties have the property of performing both variable selection (setting some coefficients exactly equal to zero) and shrinking the other coefficients. \n",
    "\n",
    "In Ridge regression, the cost function is changed by adding a penalty term to the square of the magnitude of the coefficients. \n",
    "\n",
    "$$ \\text{cost_function_ridge}= \\sum_{i=1}^n(y_i - \\hat{y})^2 = \\sum_{i=1}^n(y_i - \\sum_{j=1}^k(m_jx_{ij})-b)^2 + \\lambda \\sum_{j=1}^p m_j^2$$\n",
    "\n",
    "Lasso regression (Least Absolute Shrinkage and Selection Operator) is very similar to Ridge regression, except that the magnitude of the coefficients are not squared in the penalty term.\n",
    "\n",
    "$$ \\text{cost_function_lasso}= \\sum_{i=1}^n(y_i - \\hat{y})^2 = \\sum_{i=1}^n(y_i - \\sum_{j=1}^k(m_jx_{ij})-b)^2 + \\lambda \\sum_{j=1}^p \\mid m_j \\mid$$\n",
    "\n",
    "So we're penalizing large coefficients -- what are the effects/implications of that?\n",
    "\n",
    "### Standardization before Regularization\n",
    "\n",
    "An important step before using either Lasso or Ridge regularization is to first standardize your data such that it is all on the same scale. Regularization is based on the concept of penalizing larger coefficients, so **if you have features that are on different scales, some will get unfairly penalized**. A downside of standardization is that the value of the coefficients become less interpretable and must be transformed back to their original scale if you want to interpret how a one unit change in a feature impacts the target variable.\n",
    "\n",
    "**Scaler documentation:**\n",
    "\n",
    "* https://scikit-learn.org/stable/modules/generated/sklearn.preprocessing.MinMaxScaler.html\n",
    "* https://scikit-learn.org/stable/modules/generated/sklearn.preprocessing.StandardScaler.html"
   ]
  },
  {
   "cell_type": "markdown",
   "metadata": {},
   "source": [
    "## Let's Code! \n",
    "\n",
    "Start with a regular Linear Regression."
   ]
  },
  {
   "cell_type": "code",
   "execution_count": 1,
   "metadata": {},
   "outputs": [],
   "source": [
    "import pandas as pd\n",
    "import numpy as np\n",
    "\n",
    "import matplotlib.pyplot as plt\n",
    "\n",
    "from sklearn.model_selection import train_test_split\n",
    "from sklearn.metrics import mean_squared_error, r2_score\n",
    "from sklearn.linear_model import LinearRegression\n",
    "from sklearn.impute import SimpleImputer\n",
    "from sklearn.preprocessing import StandardScaler, MinMaxScaler\n",
    "from sklearn.preprocessing import OneHotEncoder\n",
    "\n",
    "# import warnings\n",
    "# warnings.filterwarnings('ignore')"
   ]
  },
  {
   "cell_type": "code",
   "execution_count": 2,
   "metadata": {},
   "outputs": [],
   "source": [
    "df = pd.read_csv('data/ames_train.csv') # Ames housing data\n",
    "\n",
    "# Drop sale detail columns \n",
    "df = df.drop(columns = ['Id', 'MoSold', 'YrSold', 'SaleType', 'SaleCondition'])\n",
    "\n",
    "# Create X and y\n",
    "y = df['SalePrice']\n",
    "X = df.drop(columns=['SalePrice'], axis=1)\n",
    "\n",
    "# Split data into training and test sets\n",
    "X_train, X_test, y_train, y_test = train_test_split(X, y, random_state=42)"
   ]
  },
  {
   "cell_type": "markdown",
   "metadata": {},
   "source": [
    "### Time to Clean/Process"
   ]
  },
  {
   "cell_type": "code",
   "execution_count": 3,
   "metadata": {},
   "outputs": [
    {
     "name": "stdout",
     "output_type": "stream",
     "text": [
      "<class 'pandas.core.frame.DataFrame'>\n",
      "Int64Index: 1095 entries, 1023 to 1126\n",
      "Data columns (total 75 columns):\n",
      " #   Column         Non-Null Count  Dtype  \n",
      "---  ------         --------------  -----  \n",
      " 0   MSSubClass     1095 non-null   int64  \n",
      " 1   MSZoning       1095 non-null   object \n",
      " 2   LotFrontage    895 non-null    float64\n",
      " 3   LotArea        1095 non-null   int64  \n",
      " 4   Street         1095 non-null   object \n",
      " 5   Alley          70 non-null     object \n",
      " 6   LotShape       1095 non-null   object \n",
      " 7   LandContour    1095 non-null   object \n",
      " 8   Utilities      1095 non-null   object \n",
      " 9   LotConfig      1095 non-null   object \n",
      " 10  LandSlope      1095 non-null   object \n",
      " 11  Neighborhood   1095 non-null   object \n",
      " 12  Condition1     1095 non-null   object \n",
      " 13  Condition2     1095 non-null   object \n",
      " 14  BldgType       1095 non-null   object \n",
      " 15  HouseStyle     1095 non-null   object \n",
      " 16  OverallQual    1095 non-null   int64  \n",
      " 17  OverallCond    1095 non-null   int64  \n",
      " 18  YearBuilt      1095 non-null   int64  \n",
      " 19  YearRemodAdd   1095 non-null   int64  \n",
      " 20  RoofStyle      1095 non-null   object \n",
      " 21  RoofMatl       1095 non-null   object \n",
      " 22  Exterior1st    1095 non-null   object \n",
      " 23  Exterior2nd    1095 non-null   object \n",
      " 24  MasVnrType     1091 non-null   object \n",
      " 25  MasVnrArea     1091 non-null   float64\n",
      " 26  ExterQual      1095 non-null   object \n",
      " 27  ExterCond      1095 non-null   object \n",
      " 28  Foundation     1095 non-null   object \n",
      " 29  BsmtQual       1068 non-null   object \n",
      " 30  BsmtCond       1068 non-null   object \n",
      " 31  BsmtExposure   1068 non-null   object \n",
      " 32  BsmtFinType1   1068 non-null   object \n",
      " 33  BsmtFinSF1     1095 non-null   int64  \n",
      " 34  BsmtFinType2   1068 non-null   object \n",
      " 35  BsmtFinSF2     1095 non-null   int64  \n",
      " 36  BsmtUnfSF      1095 non-null   int64  \n",
      " 37  TotalBsmtSF    1095 non-null   int64  \n",
      " 38  Heating        1095 non-null   object \n",
      " 39  HeatingQC      1095 non-null   object \n",
      " 40  CentralAir     1095 non-null   object \n",
      " 41  Electrical     1094 non-null   object \n",
      " 42  1stFlrSF       1095 non-null   int64  \n",
      " 43  2ndFlrSF       1095 non-null   int64  \n",
      " 44  LowQualFinSF   1095 non-null   int64  \n",
      " 45  GrLivArea      1095 non-null   int64  \n",
      " 46  BsmtFullBath   1095 non-null   int64  \n",
      " 47  BsmtHalfBath   1095 non-null   int64  \n",
      " 48  FullBath       1095 non-null   int64  \n",
      " 49  HalfBath       1095 non-null   int64  \n",
      " 50  BedroomAbvGr   1095 non-null   int64  \n",
      " 51  KitchenAbvGr   1095 non-null   int64  \n",
      " 52  KitchenQual    1095 non-null   object \n",
      " 53  TotRmsAbvGrd   1095 non-null   int64  \n",
      " 54  Functional     1095 non-null   object \n",
      " 55  Fireplaces     1095 non-null   int64  \n",
      " 56  FireplaceQu    583 non-null    object \n",
      " 57  GarageType     1037 non-null   object \n",
      " 58  GarageYrBlt    1037 non-null   float64\n",
      " 59  GarageFinish   1037 non-null   object \n",
      " 60  GarageCars     1095 non-null   int64  \n",
      " 61  GarageArea     1095 non-null   int64  \n",
      " 62  GarageQual     1037 non-null   object \n",
      " 63  GarageCond     1037 non-null   object \n",
      " 64  PavedDrive     1095 non-null   object \n",
      " 65  WoodDeckSF     1095 non-null   int64  \n",
      " 66  OpenPorchSF    1095 non-null   int64  \n",
      " 67  EnclosedPorch  1095 non-null   int64  \n",
      " 68  3SsnPorch      1095 non-null   int64  \n",
      " 69  ScreenPorch    1095 non-null   int64  \n",
      " 70  PoolArea       1095 non-null   int64  \n",
      " 71  PoolQC         6 non-null      object \n",
      " 72  Fence          218 non-null    object \n",
      " 73  MiscFeature    43 non-null     object \n",
      " 74  MiscVal        1095 non-null   int64  \n",
      "dtypes: float64(3), int64(31), object(41)\n",
      "memory usage: 650.2+ KB\n"
     ]
    }
   ],
   "source": [
    "# Explore X_train\n",
    "X_train.info()"
   ]
  },
  {
   "cell_type": "code",
   "execution_count": 4,
   "metadata": {
    "scrolled": true
   },
   "outputs": [
    {
     "data": {
      "text/plain": [
       "MSSubClass        0\n",
       "MSZoning          0\n",
       "LotFrontage     200\n",
       "LotArea           0\n",
       "Street            0\n",
       "               ... \n",
       "PoolArea          0\n",
       "PoolQC         1089\n",
       "Fence           877\n",
       "MiscFeature    1052\n",
       "MiscVal           0\n",
       "Length: 75, dtype: int64"
      ]
     },
     "execution_count": 4,
     "metadata": {},
     "output_type": "execute_result"
    }
   ],
   "source": [
    "# Let's check the percentage of our training data that's null per column\n",
    "X_train.isna().sum()"
   ]
  },
  {
   "cell_type": "code",
   "execution_count": 5,
   "metadata": {},
   "outputs": [
    {
     "data": {
      "text/plain": [
       "1095"
      ]
     },
     "execution_count": 5,
     "metadata": {},
     "output_type": "execute_result"
    }
   ],
   "source": [
    "len(X_train)"
   ]
  },
  {
   "cell_type": "code",
   "execution_count": 6,
   "metadata": {},
   "outputs": [
    {
     "data": {
      "text/plain": [
       "PoolQC          0.994521\n",
       "MiscFeature     0.960731\n",
       "Alley           0.936073\n",
       "Fence           0.800913\n",
       "FireplaceQu     0.467580\n",
       "LotFrontage     0.182648\n",
       "GarageQual      0.052968\n",
       "GarageType      0.052968\n",
       "GarageYrBlt     0.052968\n",
       "GarageFinish    0.052968\n",
       "dtype: float64"
      ]
     },
     "execution_count": 6,
     "metadata": {},
     "output_type": "execute_result"
    }
   ],
   "source": [
    "# Let's check the percentage of our training data that's null per column\n",
    "\n",
    "null_perc = X_train.isna().sum() / len(X_train)\n",
    "null_perc.sort_values(ascending=False).head(10)"
   ]
  },
  {
   "cell_type": "code",
   "execution_count": 7,
   "metadata": {},
   "outputs": [
    {
     "data": {
      "text/plain": [
       "MSSubClass     False\n",
       "MSZoning       False\n",
       "LotFrontage     True\n",
       "LotArea        False\n",
       "Street         False\n",
       "               ...  \n",
       "PoolArea       False\n",
       "PoolQC          True\n",
       "Fence           True\n",
       "MiscFeature     True\n",
       "MiscVal        False\n",
       "Length: 75, dtype: bool"
      ]
     },
     "execution_count": 7,
     "metadata": {},
     "output_type": "execute_result"
    }
   ],
   "source": [
    "# Drop where nulls are more than 10% of column\n",
    "\n",
    "null_perc > .1"
   ]
  },
  {
   "cell_type": "code",
   "execution_count": 8,
   "metadata": {},
   "outputs": [
    {
     "name": "stdout",
     "output_type": "stream",
     "text": [
      "['LotFrontage', 'Alley', 'FireplaceQu', 'PoolQC', 'Fence', 'MiscFeature']\n"
     ]
    }
   ],
   "source": [
    "# Drop where nulls are more than 10% of column\n",
    "null_cols_to_drop = list(null_perc.loc[null_perc > .1].index)\n",
    "print(null_cols_to_drop)"
   ]
  },
  {
   "cell_type": "code",
   "execution_count": 9,
   "metadata": {},
   "outputs": [],
   "source": [
    "X_train = X_train.drop(null_cols_to_drop, axis=1)\n",
    "# Not even looking at X_test for the purpose of using X_train\n",
    "X_test = X_test.drop(null_cols_to_drop, axis=1)"
   ]
  },
  {
   "cell_type": "code",
   "execution_count": 10,
   "metadata": {},
   "outputs": [],
   "source": [
    "# Start with the continuous variables\n",
    "\n",
    "# Grab only numeric features\n",
    "X_train['Fireplaces'].dtype\n",
    "\n",
    "num_types = ['int64', 'float64']\n",
    "\n",
    "num_cols = []\n",
    "for col in X_train.columns:\n",
    "    if X_train[col].dtype in num_types:\n",
    "        num_cols.append(col)\n",
    "        \n",
    "# list comprehension\n",
    "num_cols = [c for c in X_train.columns if X_train[c].dtype in num_types]"
   ]
  },
  {
   "cell_type": "code",
   "execution_count": 11,
   "metadata": {},
   "outputs": [
    {
     "name": "stdout",
     "output_type": "stream",
     "text": [
      "<class 'pandas.core.frame.DataFrame'>\n",
      "Int64Index: 1095 entries, 1023 to 1126\n",
      "Data columns (total 33 columns):\n",
      " #   Column         Non-Null Count  Dtype  \n",
      "---  ------         --------------  -----  \n",
      " 0   MSSubClass     1095 non-null   int64  \n",
      " 1   LotArea        1095 non-null   int64  \n",
      " 2   OverallQual    1095 non-null   int64  \n",
      " 3   OverallCond    1095 non-null   int64  \n",
      " 4   YearBuilt      1095 non-null   int64  \n",
      " 5   YearRemodAdd   1095 non-null   int64  \n",
      " 6   MasVnrArea     1091 non-null   float64\n",
      " 7   BsmtFinSF1     1095 non-null   int64  \n",
      " 8   BsmtFinSF2     1095 non-null   int64  \n",
      " 9   BsmtUnfSF      1095 non-null   int64  \n",
      " 10  TotalBsmtSF    1095 non-null   int64  \n",
      " 11  1stFlrSF       1095 non-null   int64  \n",
      " 12  2ndFlrSF       1095 non-null   int64  \n",
      " 13  LowQualFinSF   1095 non-null   int64  \n",
      " 14  GrLivArea      1095 non-null   int64  \n",
      " 15  BsmtFullBath   1095 non-null   int64  \n",
      " 16  BsmtHalfBath   1095 non-null   int64  \n",
      " 17  FullBath       1095 non-null   int64  \n",
      " 18  HalfBath       1095 non-null   int64  \n",
      " 19  BedroomAbvGr   1095 non-null   int64  \n",
      " 20  KitchenAbvGr   1095 non-null   int64  \n",
      " 21  TotRmsAbvGrd   1095 non-null   int64  \n",
      " 22  Fireplaces     1095 non-null   int64  \n",
      " 23  GarageYrBlt    1037 non-null   float64\n",
      " 24  GarageCars     1095 non-null   int64  \n",
      " 25  GarageArea     1095 non-null   int64  \n",
      " 26  WoodDeckSF     1095 non-null   int64  \n",
      " 27  OpenPorchSF    1095 non-null   int64  \n",
      " 28  EnclosedPorch  1095 non-null   int64  \n",
      " 29  3SsnPorch      1095 non-null   int64  \n",
      " 30  ScreenPorch    1095 non-null   int64  \n",
      " 31  PoolArea       1095 non-null   int64  \n",
      " 32  MiscVal        1095 non-null   int64  \n",
      "dtypes: float64(2), int64(31)\n",
      "memory usage: 290.9 KB\n"
     ]
    }
   ],
   "source": [
    "X_train[num_cols].info()"
   ]
  },
  {
   "cell_type": "code",
   "execution_count": 12,
   "metadata": {},
   "outputs": [],
   "source": [
    "X_train_cont = X_train[num_cols]\n",
    "X_test_cont = X_test[num_cols]"
   ]
  },
  {
   "cell_type": "code",
   "execution_count": 13,
   "metadata": {},
   "outputs": [],
   "source": [
    "# Impute missing values with 0 using SimpleImputer \n",
    "#     -> ALready did from sklearn.impute import SimpleImputer\n",
    "# (most columns look like they just don't have details)\n",
    "\n",
    "imputer = SimpleImputer(strategy=\"constant\", fill_value=0)\n",
    "\n",
    "X_train_imputed = imputer.fit_transform(X_train_cont)\n",
    "X_test_imputed = imputer.transform(X_test_cont)\n",
    "\n",
    "# fit is just to make parameters, \n",
    "# so don't fit the test so that it only learns from training data\n",
    "\n",
    "# Scale the train and test data\n",
    "scaler = MinMaxScaler()\n",
    "\n",
    "X_train_imsc = scaler.fit_transform(X_train_imputed)\n",
    "X_test_imsc = scaler.transform(X_test_imputed)"
   ]
  },
  {
   "cell_type": "code",
   "execution_count": 14,
   "metadata": {},
   "outputs": [
    {
     "name": "stdout",
     "output_type": "stream",
     "text": [
      "<class 'pandas.core.frame.DataFrame'>\n",
      "Int64Index: 1095 entries, 1023 to 1126\n",
      "Data columns (total 69 columns):\n",
      " #   Column         Non-Null Count  Dtype  \n",
      "---  ------         --------------  -----  \n",
      " 0   MSSubClass     1095 non-null   int64  \n",
      " 1   MSZoning       1095 non-null   object \n",
      " 2   LotArea        1095 non-null   int64  \n",
      " 3   Street         1095 non-null   object \n",
      " 4   LotShape       1095 non-null   object \n",
      " 5   LandContour    1095 non-null   object \n",
      " 6   Utilities      1095 non-null   object \n",
      " 7   LotConfig      1095 non-null   object \n",
      " 8   LandSlope      1095 non-null   object \n",
      " 9   Neighborhood   1095 non-null   object \n",
      " 10  Condition1     1095 non-null   object \n",
      " 11  Condition2     1095 non-null   object \n",
      " 12  BldgType       1095 non-null   object \n",
      " 13  HouseStyle     1095 non-null   object \n",
      " 14  OverallQual    1095 non-null   int64  \n",
      " 15  OverallCond    1095 non-null   int64  \n",
      " 16  YearBuilt      1095 non-null   int64  \n",
      " 17  YearRemodAdd   1095 non-null   int64  \n",
      " 18  RoofStyle      1095 non-null   object \n",
      " 19  RoofMatl       1095 non-null   object \n",
      " 20  Exterior1st    1095 non-null   object \n",
      " 21  Exterior2nd    1095 non-null   object \n",
      " 22  MasVnrType     1091 non-null   object \n",
      " 23  MasVnrArea     1091 non-null   float64\n",
      " 24  ExterQual      1095 non-null   object \n",
      " 25  ExterCond      1095 non-null   object \n",
      " 26  Foundation     1095 non-null   object \n",
      " 27  BsmtQual       1068 non-null   object \n",
      " 28  BsmtCond       1068 non-null   object \n",
      " 29  BsmtExposure   1068 non-null   object \n",
      " 30  BsmtFinType1   1068 non-null   object \n",
      " 31  BsmtFinSF1     1095 non-null   int64  \n",
      " 32  BsmtFinType2   1068 non-null   object \n",
      " 33  BsmtFinSF2     1095 non-null   int64  \n",
      " 34  BsmtUnfSF      1095 non-null   int64  \n",
      " 35  TotalBsmtSF    1095 non-null   int64  \n",
      " 36  Heating        1095 non-null   object \n",
      " 37  HeatingQC      1095 non-null   object \n",
      " 38  CentralAir     1095 non-null   object \n",
      " 39  Electrical     1094 non-null   object \n",
      " 40  1stFlrSF       1095 non-null   int64  \n",
      " 41  2ndFlrSF       1095 non-null   int64  \n",
      " 42  LowQualFinSF   1095 non-null   int64  \n",
      " 43  GrLivArea      1095 non-null   int64  \n",
      " 44  BsmtFullBath   1095 non-null   int64  \n",
      " 45  BsmtHalfBath   1095 non-null   int64  \n",
      " 46  FullBath       1095 non-null   int64  \n",
      " 47  HalfBath       1095 non-null   int64  \n",
      " 48  BedroomAbvGr   1095 non-null   int64  \n",
      " 49  KitchenAbvGr   1095 non-null   int64  \n",
      " 50  KitchenQual    1095 non-null   object \n",
      " 51  TotRmsAbvGrd   1095 non-null   int64  \n",
      " 52  Functional     1095 non-null   object \n",
      " 53  Fireplaces     1095 non-null   int64  \n",
      " 54  GarageType     1037 non-null   object \n",
      " 55  GarageYrBlt    1037 non-null   float64\n",
      " 56  GarageFinish   1037 non-null   object \n",
      " 57  GarageCars     1095 non-null   int64  \n",
      " 58  GarageArea     1095 non-null   int64  \n",
      " 59  GarageQual     1037 non-null   object \n",
      " 60  GarageCond     1037 non-null   object \n",
      " 61  PavedDrive     1095 non-null   object \n",
      " 62  WoodDeckSF     1095 non-null   int64  \n",
      " 63  OpenPorchSF    1095 non-null   int64  \n",
      " 64  EnclosedPorch  1095 non-null   int64  \n",
      " 65  3SsnPorch      1095 non-null   int64  \n",
      " 66  ScreenPorch    1095 non-null   int64  \n",
      " 67  PoolArea       1095 non-null   int64  \n",
      " 68  MiscVal        1095 non-null   int64  \n",
      "dtypes: float64(2), int64(31), object(36)\n",
      "memory usage: 598.8+ KB\n"
     ]
    }
   ],
   "source": [
    "X_train.info()"
   ]
  },
  {
   "cell_type": "code",
   "execution_count": 15,
   "metadata": {},
   "outputs": [
    {
     "data": {
      "text/plain": [
       "1023    RL\n",
       "810     RL\n",
       "1384    RL\n",
       "626     RL\n",
       "813     RL\n",
       "        ..\n",
       "1095    RL\n",
       "1130    RL\n",
       "1294    RL\n",
       "860     RL\n",
       "1126    RL\n",
       "Name: MSZoning, Length: 1095, dtype: object"
      ]
     },
     "execution_count": 15,
     "metadata": {},
     "output_type": "execute_result"
    }
   ],
   "source": [
    "X_train['MSZoning']"
   ]
  },
  {
   "cell_type": "code",
   "execution_count": 16,
   "metadata": {},
   "outputs": [],
   "source": [
    "# Now time for the categorical columns\n",
    "\n",
    "# Create X_cat which contains only the categorical variables\n",
    "cat_cols = [c for c in X_train.columns if X_train[c].dtype in ['object']]\n",
    "\n",
    "X_train_cat = X_train[cat_cols]\n",
    "X_test_cat = X_test[cat_cols]\n",
    "\n",
    "# Fill missing values with the string 'missing'\n",
    "X_train_cat = X_train_cat.fillna(value=\"missing\")\n",
    "# Same as:\n",
    "# imputer_cat= SimpleImputer(strategy='constant', fill_value='missing')\n",
    "# imputer_cat.fit_transform(X_train_cat)\n",
    "\n",
    "X_test_cat = X_test_cat.fillna(value='missing')"
   ]
  },
  {
   "cell_type": "code",
   "execution_count": 17,
   "metadata": {
    "scrolled": false
   },
   "outputs": [
    {
     "data": {
      "text/plain": [
       "RL         0.790868\n",
       "RM         0.149772\n",
       "FV         0.042922\n",
       "RH         0.012785\n",
       "C (all)    0.003653\n",
       "Name: MSZoning, dtype: float64"
      ]
     },
     "metadata": {},
     "output_type": "display_data"
    },
    {
     "data": {
      "text/plain": [
       "Pave    0.996347\n",
       "Grvl    0.003653\n",
       "Name: Street, dtype: float64"
      ]
     },
     "metadata": {},
     "output_type": "display_data"
    },
    {
     "data": {
      "text/plain": [
       "Reg    0.621918\n",
       "IR1    0.338813\n",
       "IR2    0.031963\n",
       "IR3    0.007306\n",
       "Name: LotShape, dtype: float64"
      ]
     },
     "metadata": {},
     "output_type": "display_data"
    },
    {
     "data": {
      "text/plain": [
       "Lvl    0.905936\n",
       "Bnk    0.041096\n",
       "HLS    0.029224\n",
       "Low    0.023744\n",
       "Name: LandContour, dtype: float64"
      ]
     },
     "metadata": {},
     "output_type": "display_data"
    },
    {
     "data": {
      "text/plain": [
       "AllPub    0.999087\n",
       "NoSeWa    0.000913\n",
       "Name: Utilities, dtype: float64"
      ]
     },
     "metadata": {},
     "output_type": "display_data"
    },
    {
     "data": {
      "text/plain": [
       "Inside     0.699543\n",
       "Corner     0.190868\n",
       "CulDSac    0.073059\n",
       "FR2        0.033790\n",
       "FR3        0.002740\n",
       "Name: LotConfig, dtype: float64"
      ]
     },
     "metadata": {},
     "output_type": "display_data"
    },
    {
     "data": {
      "text/plain": [
       "Gtl    0.946119\n",
       "Mod    0.045662\n",
       "Sev    0.008219\n",
       "Name: LandSlope, dtype: float64"
      ]
     },
     "metadata": {},
     "output_type": "display_data"
    },
    {
     "data": {
      "text/plain": [
       "NAmes      0.152511\n",
       "CollgCr    0.102283\n",
       "OldTown    0.079452\n",
       "Edwards    0.075799\n",
       "Somerst    0.056621\n",
       "NWAmes     0.054795\n",
       "Gilbert    0.053881\n",
       "NridgHt    0.052968\n",
       "Sawyer     0.046575\n",
       "BrkSide    0.040183\n",
       "SawyerW    0.036530\n",
       "Crawfor    0.035616\n",
       "Mitchel    0.034703\n",
       "NoRidge    0.028311\n",
       "Timber     0.024658\n",
       "IDOTRR     0.022831\n",
       "StoneBr    0.018265\n",
       "ClearCr    0.017352\n",
       "SWISU      0.016438\n",
       "Blmngtn    0.013699\n",
       "BrDale     0.011872\n",
       "MeadowV    0.009132\n",
       "Veenker    0.008219\n",
       "NPkVill    0.006393\n",
       "Blueste    0.000913\n",
       "Name: Neighborhood, dtype: float64"
      ]
     },
     "metadata": {},
     "output_type": "display_data"
    },
    {
     "data": {
      "text/plain": [
       "Norm      0.863927\n",
       "Feedr     0.053881\n",
       "Artery    0.033790\n",
       "RRAn      0.015525\n",
       "PosN      0.012785\n",
       "RRAe      0.009132\n",
       "PosA      0.005479\n",
       "RRNn      0.004566\n",
       "RRNe      0.000913\n",
       "Name: Condition1, dtype: float64"
      ]
     },
     "metadata": {},
     "output_type": "display_data"
    },
    {
     "data": {
      "text/plain": [
       "Norm      0.991781\n",
       "Feedr     0.002740\n",
       "PosN      0.001826\n",
       "Artery    0.001826\n",
       "RRAn      0.000913\n",
       "RRAe      0.000913\n",
       "Name: Condition2, dtype: float64"
      ]
     },
     "metadata": {},
     "output_type": "display_data"
    },
    {
     "data": {
      "text/plain": [
       "1Fam      0.835616\n",
       "TwnhsE    0.076712\n",
       "Duplex    0.033790\n",
       "Twnhs     0.029224\n",
       "2fmCon    0.024658\n",
       "Name: BldgType, dtype: float64"
      ]
     },
     "metadata": {},
     "output_type": "display_data"
    },
    {
     "data": {
      "text/plain": [
       "1Story    0.494064\n",
       "2Story    0.309589\n",
       "1.5Fin    0.104110\n",
       "SLvl      0.045662\n",
       "SFoyer    0.021005\n",
       "1.5Unf    0.010046\n",
       "2.5Unf    0.009132\n",
       "2.5Fin    0.006393\n",
       "Name: HouseStyle, dtype: float64"
      ]
     },
     "metadata": {},
     "output_type": "display_data"
    },
    {
     "data": {
      "text/plain": [
       "Gable      0.769863\n",
       "Hip        0.205479\n",
       "Flat       0.010046\n",
       "Gambrel    0.008219\n",
       "Mansard    0.004566\n",
       "Shed       0.001826\n",
       "Name: RoofStyle, dtype: float64"
      ]
     },
     "metadata": {},
     "output_type": "display_data"
    },
    {
     "data": {
      "text/plain": [
       "CompShg    0.982648\n",
       "Tar&Grv    0.008219\n",
       "WdShngl    0.003653\n",
       "WdShake    0.002740\n",
       "Roll       0.000913\n",
       "ClyTile    0.000913\n",
       "Metal      0.000913\n",
       "Name: RoofMatl, dtype: float64"
      ]
     },
     "metadata": {},
     "output_type": "display_data"
    },
    {
     "data": {
      "text/plain": [
       "VinylSd    0.359817\n",
       "HdBoard    0.152511\n",
       "MetalSd    0.146119\n",
       "Wd Sdng    0.145205\n",
       "Plywood    0.068493\n",
       "CemntBd    0.038356\n",
       "BrkFace    0.034703\n",
       "Stucco     0.017352\n",
       "WdShing    0.017352\n",
       "AsbShng    0.014612\n",
       "BrkComm    0.001826\n",
       "AsphShn    0.000913\n",
       "CBlock     0.000913\n",
       "ImStucc    0.000913\n",
       "Stone      0.000913\n",
       "Name: Exterior1st, dtype: float64"
      ]
     },
     "metadata": {},
     "output_type": "display_data"
    },
    {
     "data": {
      "text/plain": [
       "VinylSd    0.351598\n",
       "Wd Sdng    0.140639\n",
       "HdBoard    0.140639\n",
       "MetalSd    0.139726\n",
       "Plywood    0.094064\n",
       "CmentBd    0.037443\n",
       "Wd Shng    0.029224\n",
       "Stucco     0.019178\n",
       "AsbShng    0.015525\n",
       "BrkFace    0.013699\n",
       "Brk Cmn    0.005479\n",
       "ImStucc    0.005479\n",
       "AsphShn    0.002740\n",
       "Stone      0.002740\n",
       "Other      0.000913\n",
       "CBlock     0.000913\n",
       "Name: Exterior2nd, dtype: float64"
      ]
     },
     "metadata": {},
     "output_type": "display_data"
    },
    {
     "data": {
      "text/plain": [
       "None       0.579909\n",
       "BrkFace    0.315068\n",
       "Stone      0.090411\n",
       "BrkCmn     0.010959\n",
       "missing    0.003653\n",
       "Name: MasVnrType, dtype: float64"
      ]
     },
     "metadata": {},
     "output_type": "display_data"
    },
    {
     "data": {
      "text/plain": [
       "TA    0.622831\n",
       "Gd    0.331507\n",
       "Ex    0.035616\n",
       "Fa    0.010046\n",
       "Name: ExterQual, dtype: float64"
      ]
     },
     "metadata": {},
     "output_type": "display_data"
    },
    {
     "data": {
      "text/plain": [
       "TA    0.876712\n",
       "Gd    0.098630\n",
       "Fa    0.021918\n",
       "Ex    0.001826\n",
       "Po    0.000913\n",
       "Name: ExterCond, dtype: float64"
      ]
     },
     "metadata": {},
     "output_type": "display_data"
    },
    {
     "data": {
      "text/plain": [
       "PConc     0.449315\n",
       "CBlock    0.427397\n",
       "BrkTil    0.098630\n",
       "Slab      0.017352\n",
       "Stone     0.004566\n",
       "Wood      0.002740\n",
       "Name: Foundation, dtype: float64"
      ]
     },
     "metadata": {},
     "output_type": "display_data"
    },
    {
     "data": {
      "text/plain": [
       "TA         0.442922\n",
       "Gd         0.421005\n",
       "Ex         0.085845\n",
       "Fa         0.025571\n",
       "missing    0.024658\n",
       "Name: BsmtQual, dtype: float64"
      ]
     },
     "metadata": {},
     "output_type": "display_data"
    },
    {
     "data": {
      "text/plain": [
       "TA         0.892237\n",
       "Gd         0.047489\n",
       "Fa         0.034703\n",
       "missing    0.024658\n",
       "Po         0.000913\n",
       "Name: BsmtCond, dtype: float64"
      ]
     },
     "metadata": {},
     "output_type": "display_data"
    },
    {
     "data": {
      "text/plain": [
       "No         0.656621\n",
       "Av         0.148858\n",
       "Gd         0.089498\n",
       "Mn         0.080365\n",
       "missing    0.024658\n",
       "Name: BsmtExposure, dtype: float64"
      ]
     },
     "metadata": {},
     "output_type": "display_data"
    },
    {
     "data": {
      "text/plain": [
       "Unf        0.287671\n",
       "GLQ        0.285845\n",
       "ALQ        0.155251\n",
       "BLQ        0.102283\n",
       "Rec        0.092237\n",
       "LwQ        0.052055\n",
       "missing    0.024658\n",
       "Name: BsmtFinType1, dtype: float64"
      ]
     },
     "metadata": {},
     "output_type": "display_data"
    },
    {
     "data": {
      "text/plain": [
       "Unf        0.863927\n",
       "Rec        0.038356\n",
       "LwQ        0.030137\n",
       "missing    0.024658\n",
       "BLQ        0.018265\n",
       "ALQ        0.015525\n",
       "GLQ        0.009132\n",
       "Name: BsmtFinType2, dtype: float64"
      ]
     },
     "metadata": {},
     "output_type": "display_data"
    },
    {
     "data": {
      "text/plain": [
       "GasA     0.977169\n",
       "GasW     0.013699\n",
       "Grav     0.003653\n",
       "Wall     0.002740\n",
       "OthW     0.001826\n",
       "Floor    0.000913\n",
       "Name: Heating, dtype: float64"
      ]
     },
     "metadata": {},
     "output_type": "display_data"
    },
    {
     "data": {
      "text/plain": [
       "Ex    0.506849\n",
       "TA    0.291324\n",
       "Gd    0.165297\n",
       "Fa    0.035616\n",
       "Po    0.000913\n",
       "Name: HeatingQC, dtype: float64"
      ]
     },
     "metadata": {},
     "output_type": "display_data"
    },
    {
     "data": {
      "text/plain": [
       "Y    0.928767\n",
       "N    0.071233\n",
       "Name: CentralAir, dtype: float64"
      ]
     },
     "metadata": {},
     "output_type": "display_data"
    },
    {
     "data": {
      "text/plain": [
       "SBrkr      0.915068\n",
       "FuseA      0.060274\n",
       "FuseF      0.021005\n",
       "FuseP      0.002740\n",
       "missing    0.000913\n",
       "Name: Electrical, dtype: float64"
      ]
     },
     "metadata": {},
     "output_type": "display_data"
    },
    {
     "data": {
      "text/plain": [
       "TA    0.502283\n",
       "Gd    0.401826\n",
       "Ex    0.066667\n",
       "Fa    0.029224\n",
       "Name: KitchenQual, dtype: float64"
      ]
     },
     "metadata": {},
     "output_type": "display_data"
    },
    {
     "data": {
      "text/plain": [
       "Typ     0.925114\n",
       "Min2    0.025571\n",
       "Min1    0.024658\n",
       "Mod     0.011872\n",
       "Maj1    0.008219\n",
       "Maj2    0.003653\n",
       "Sev     0.000913\n",
       "Name: Functional, dtype: float64"
      ]
     },
     "metadata": {},
     "output_type": "display_data"
    },
    {
     "data": {
      "text/plain": [
       "Attchd     0.594521\n",
       "Detchd     0.263927\n",
       "BuiltIn    0.063014\n",
       "missing    0.052968\n",
       "Basment    0.013699\n",
       "CarPort    0.006393\n",
       "2Types     0.005479\n",
       "Name: GarageType, dtype: float64"
      ]
     },
     "metadata": {},
     "output_type": "display_data"
    },
    {
     "data": {
      "text/plain": [
       "Unf        0.410046\n",
       "RFn        0.293151\n",
       "Fin        0.243836\n",
       "missing    0.052968\n",
       "Name: GarageFinish, dtype: float64"
      ]
     },
     "metadata": {},
     "output_type": "display_data"
    },
    {
     "data": {
      "text/plain": [
       "TA         0.900457\n",
       "missing    0.052968\n",
       "Fa         0.031963\n",
       "Gd         0.010959\n",
       "Ex         0.002740\n",
       "Po         0.000913\n",
       "Name: GarageQual, dtype: float64"
      ]
     },
     "metadata": {},
     "output_type": "display_data"
    },
    {
     "data": {
      "text/plain": [
       "TA         0.908676\n",
       "missing    0.052968\n",
       "Fa         0.024658\n",
       "Gd         0.008219\n",
       "Po         0.003653\n",
       "Ex         0.001826\n",
       "Name: GarageCond, dtype: float64"
      ]
     },
     "metadata": {},
     "output_type": "display_data"
    },
    {
     "data": {
      "text/plain": [
       "Y    0.916895\n",
       "N    0.061187\n",
       "P    0.021918\n",
       "Name: PavedDrive, dtype: float64"
      ]
     },
     "metadata": {},
     "output_type": "display_data"
    }
   ],
   "source": [
    "# Exploring column percentages\n",
    "for col in X_train_cat.columns:\n",
    "    display(X_train_cat[col].value_counts()/len(X_train_cat))"
   ]
  },
  {
   "cell_type": "code",
   "execution_count": 18,
   "metadata": {},
   "outputs": [
    {
     "data": {
      "text/plain": [
       "RL         0.790868\n",
       "RM         0.149772\n",
       "FV         0.042922\n",
       "RH         0.012785\n",
       "C (all)    0.003653\n",
       "Name: MSZoning, dtype: float64"
      ]
     },
     "metadata": {},
     "output_type": "display_data"
    },
    {
     "data": {
      "text/plain": [
       "Pave    0.996347\n",
       "Grvl    0.003653\n",
       "Name: Street, dtype: float64"
      ]
     },
     "metadata": {},
     "output_type": "display_data"
    },
    {
     "data": {
      "text/plain": [
       "Reg    0.621918\n",
       "IR1    0.338813\n",
       "IR2    0.031963\n",
       "IR3    0.007306\n",
       "Name: LotShape, dtype: float64"
      ]
     },
     "metadata": {},
     "output_type": "display_data"
    },
    {
     "data": {
      "text/plain": [
       "Lvl    0.905936\n",
       "Bnk    0.041096\n",
       "HLS    0.029224\n",
       "Low    0.023744\n",
       "Name: LandContour, dtype: float64"
      ]
     },
     "metadata": {},
     "output_type": "display_data"
    },
    {
     "data": {
      "text/plain": [
       "AllPub    0.999087\n",
       "NoSeWa    0.000913\n",
       "Name: Utilities, dtype: float64"
      ]
     },
     "metadata": {},
     "output_type": "display_data"
    },
    {
     "data": {
      "text/plain": [
       "Inside     0.699543\n",
       "Corner     0.190868\n",
       "CulDSac    0.073059\n",
       "FR2        0.033790\n",
       "FR3        0.002740\n",
       "Name: LotConfig, dtype: float64"
      ]
     },
     "metadata": {},
     "output_type": "display_data"
    },
    {
     "data": {
      "text/plain": [
       "Gtl    0.946119\n",
       "Mod    0.045662\n",
       "Sev    0.008219\n",
       "Name: LandSlope, dtype: float64"
      ]
     },
     "metadata": {},
     "output_type": "display_data"
    },
    {
     "data": {
      "text/plain": [
       "NAmes      0.152511\n",
       "CollgCr    0.102283\n",
       "OldTown    0.079452\n",
       "Edwards    0.075799\n",
       "Somerst    0.056621\n",
       "NWAmes     0.054795\n",
       "Gilbert    0.053881\n",
       "NridgHt    0.052968\n",
       "Sawyer     0.046575\n",
       "BrkSide    0.040183\n",
       "SawyerW    0.036530\n",
       "Crawfor    0.035616\n",
       "Mitchel    0.034703\n",
       "NoRidge    0.028311\n",
       "Timber     0.024658\n",
       "IDOTRR     0.022831\n",
       "StoneBr    0.018265\n",
       "ClearCr    0.017352\n",
       "SWISU      0.016438\n",
       "Blmngtn    0.013699\n",
       "BrDale     0.011872\n",
       "MeadowV    0.009132\n",
       "Veenker    0.008219\n",
       "NPkVill    0.006393\n",
       "Blueste    0.000913\n",
       "Name: Neighborhood, dtype: float64"
      ]
     },
     "metadata": {},
     "output_type": "display_data"
    },
    {
     "data": {
      "text/plain": [
       "Norm      0.863927\n",
       "Feedr     0.053881\n",
       "Artery    0.033790\n",
       "RRAn      0.015525\n",
       "PosN      0.012785\n",
       "RRAe      0.009132\n",
       "PosA      0.005479\n",
       "RRNn      0.004566\n",
       "RRNe      0.000913\n",
       "Name: Condition1, dtype: float64"
      ]
     },
     "metadata": {},
     "output_type": "display_data"
    },
    {
     "data": {
      "text/plain": [
       "Norm      0.991781\n",
       "Feedr     0.002740\n",
       "PosN      0.001826\n",
       "Artery    0.001826\n",
       "RRAn      0.000913\n",
       "RRAe      0.000913\n",
       "Name: Condition2, dtype: float64"
      ]
     },
     "metadata": {},
     "output_type": "display_data"
    },
    {
     "data": {
      "text/plain": [
       "1Fam      0.835616\n",
       "TwnhsE    0.076712\n",
       "Duplex    0.033790\n",
       "Twnhs     0.029224\n",
       "2fmCon    0.024658\n",
       "Name: BldgType, dtype: float64"
      ]
     },
     "metadata": {},
     "output_type": "display_data"
    },
    {
     "data": {
      "text/plain": [
       "1Story    0.494064\n",
       "2Story    0.309589\n",
       "1.5Fin    0.104110\n",
       "SLvl      0.045662\n",
       "SFoyer    0.021005\n",
       "1.5Unf    0.010046\n",
       "2.5Unf    0.009132\n",
       "2.5Fin    0.006393\n",
       "Name: HouseStyle, dtype: float64"
      ]
     },
     "metadata": {},
     "output_type": "display_data"
    },
    {
     "data": {
      "text/plain": [
       "Gable      0.769863\n",
       "Hip        0.205479\n",
       "Flat       0.010046\n",
       "Gambrel    0.008219\n",
       "Mansard    0.004566\n",
       "Shed       0.001826\n",
       "Name: RoofStyle, dtype: float64"
      ]
     },
     "metadata": {},
     "output_type": "display_data"
    },
    {
     "data": {
      "text/plain": [
       "CompShg    0.982648\n",
       "Tar&Grv    0.008219\n",
       "WdShngl    0.003653\n",
       "WdShake    0.002740\n",
       "Roll       0.000913\n",
       "ClyTile    0.000913\n",
       "Metal      0.000913\n",
       "Name: RoofMatl, dtype: float64"
      ]
     },
     "metadata": {},
     "output_type": "display_data"
    },
    {
     "data": {
      "text/plain": [
       "VinylSd    0.359817\n",
       "HdBoard    0.152511\n",
       "MetalSd    0.146119\n",
       "Wd Sdng    0.145205\n",
       "Plywood    0.068493\n",
       "CemntBd    0.038356\n",
       "BrkFace    0.034703\n",
       "Stucco     0.017352\n",
       "WdShing    0.017352\n",
       "AsbShng    0.014612\n",
       "BrkComm    0.001826\n",
       "AsphShn    0.000913\n",
       "CBlock     0.000913\n",
       "ImStucc    0.000913\n",
       "Stone      0.000913\n",
       "Name: Exterior1st, dtype: float64"
      ]
     },
     "metadata": {},
     "output_type": "display_data"
    },
    {
     "data": {
      "text/plain": [
       "VinylSd    0.351598\n",
       "Wd Sdng    0.140639\n",
       "HdBoard    0.140639\n",
       "MetalSd    0.139726\n",
       "Plywood    0.094064\n",
       "CmentBd    0.037443\n",
       "Wd Shng    0.029224\n",
       "Stucco     0.019178\n",
       "AsbShng    0.015525\n",
       "BrkFace    0.013699\n",
       "Brk Cmn    0.005479\n",
       "ImStucc    0.005479\n",
       "AsphShn    0.002740\n",
       "Stone      0.002740\n",
       "Other      0.000913\n",
       "CBlock     0.000913\n",
       "Name: Exterior2nd, dtype: float64"
      ]
     },
     "metadata": {},
     "output_type": "display_data"
    },
    {
     "data": {
      "text/plain": [
       "None       0.579909\n",
       "BrkFace    0.315068\n",
       "Stone      0.090411\n",
       "BrkCmn     0.010959\n",
       "missing    0.003653\n",
       "Name: MasVnrType, dtype: float64"
      ]
     },
     "metadata": {},
     "output_type": "display_data"
    },
    {
     "data": {
      "text/plain": [
       "TA    0.622831\n",
       "Gd    0.331507\n",
       "Ex    0.035616\n",
       "Fa    0.010046\n",
       "Name: ExterQual, dtype: float64"
      ]
     },
     "metadata": {},
     "output_type": "display_data"
    },
    {
     "data": {
      "text/plain": [
       "TA    0.876712\n",
       "Gd    0.098630\n",
       "Fa    0.021918\n",
       "Ex    0.001826\n",
       "Po    0.000913\n",
       "Name: ExterCond, dtype: float64"
      ]
     },
     "metadata": {},
     "output_type": "display_data"
    },
    {
     "data": {
      "text/plain": [
       "PConc     0.449315\n",
       "CBlock    0.427397\n",
       "BrkTil    0.098630\n",
       "Slab      0.017352\n",
       "Stone     0.004566\n",
       "Wood      0.002740\n",
       "Name: Foundation, dtype: float64"
      ]
     },
     "metadata": {},
     "output_type": "display_data"
    },
    {
     "data": {
      "text/plain": [
       "TA         0.442922\n",
       "Gd         0.421005\n",
       "Ex         0.085845\n",
       "Fa         0.025571\n",
       "missing    0.024658\n",
       "Name: BsmtQual, dtype: float64"
      ]
     },
     "metadata": {},
     "output_type": "display_data"
    },
    {
     "data": {
      "text/plain": [
       "TA         0.892237\n",
       "Gd         0.047489\n",
       "Fa         0.034703\n",
       "missing    0.024658\n",
       "Po         0.000913\n",
       "Name: BsmtCond, dtype: float64"
      ]
     },
     "metadata": {},
     "output_type": "display_data"
    },
    {
     "data": {
      "text/plain": [
       "No         0.656621\n",
       "Av         0.148858\n",
       "Gd         0.089498\n",
       "Mn         0.080365\n",
       "missing    0.024658\n",
       "Name: BsmtExposure, dtype: float64"
      ]
     },
     "metadata": {},
     "output_type": "display_data"
    },
    {
     "data": {
      "text/plain": [
       "Unf        0.287671\n",
       "GLQ        0.285845\n",
       "ALQ        0.155251\n",
       "BLQ        0.102283\n",
       "Rec        0.092237\n",
       "LwQ        0.052055\n",
       "missing    0.024658\n",
       "Name: BsmtFinType1, dtype: float64"
      ]
     },
     "metadata": {},
     "output_type": "display_data"
    },
    {
     "data": {
      "text/plain": [
       "Unf        0.863927\n",
       "Rec        0.038356\n",
       "LwQ        0.030137\n",
       "missing    0.024658\n",
       "BLQ        0.018265\n",
       "ALQ        0.015525\n",
       "GLQ        0.009132\n",
       "Name: BsmtFinType2, dtype: float64"
      ]
     },
     "metadata": {},
     "output_type": "display_data"
    },
    {
     "data": {
      "text/plain": [
       "GasA     0.977169\n",
       "GasW     0.013699\n",
       "Grav     0.003653\n",
       "Wall     0.002740\n",
       "OthW     0.001826\n",
       "Floor    0.000913\n",
       "Name: Heating, dtype: float64"
      ]
     },
     "metadata": {},
     "output_type": "display_data"
    },
    {
     "data": {
      "text/plain": [
       "Ex    0.506849\n",
       "TA    0.291324\n",
       "Gd    0.165297\n",
       "Fa    0.035616\n",
       "Po    0.000913\n",
       "Name: HeatingQC, dtype: float64"
      ]
     },
     "metadata": {},
     "output_type": "display_data"
    },
    {
     "data": {
      "text/plain": [
       "Y    0.928767\n",
       "N    0.071233\n",
       "Name: CentralAir, dtype: float64"
      ]
     },
     "metadata": {},
     "output_type": "display_data"
    },
    {
     "data": {
      "text/plain": [
       "SBrkr      0.915068\n",
       "FuseA      0.060274\n",
       "FuseF      0.021005\n",
       "FuseP      0.002740\n",
       "missing    0.000913\n",
       "Name: Electrical, dtype: float64"
      ]
     },
     "metadata": {},
     "output_type": "display_data"
    },
    {
     "data": {
      "text/plain": [
       "TA    0.502283\n",
       "Gd    0.401826\n",
       "Ex    0.066667\n",
       "Fa    0.029224\n",
       "Name: KitchenQual, dtype: float64"
      ]
     },
     "metadata": {},
     "output_type": "display_data"
    },
    {
     "data": {
      "text/plain": [
       "Typ     0.925114\n",
       "Min2    0.025571\n",
       "Min1    0.024658\n",
       "Mod     0.011872\n",
       "Maj1    0.008219\n",
       "Maj2    0.003653\n",
       "Sev     0.000913\n",
       "Name: Functional, dtype: float64"
      ]
     },
     "metadata": {},
     "output_type": "display_data"
    },
    {
     "data": {
      "text/plain": [
       "Attchd     0.594521\n",
       "Detchd     0.263927\n",
       "BuiltIn    0.063014\n",
       "missing    0.052968\n",
       "Basment    0.013699\n",
       "CarPort    0.006393\n",
       "2Types     0.005479\n",
       "Name: GarageType, dtype: float64"
      ]
     },
     "metadata": {},
     "output_type": "display_data"
    },
    {
     "data": {
      "text/plain": [
       "Unf        0.410046\n",
       "RFn        0.293151\n",
       "Fin        0.243836\n",
       "missing    0.052968\n",
       "Name: GarageFinish, dtype: float64"
      ]
     },
     "metadata": {},
     "output_type": "display_data"
    },
    {
     "data": {
      "text/plain": [
       "TA         0.900457\n",
       "missing    0.052968\n",
       "Fa         0.031963\n",
       "Gd         0.010959\n",
       "Ex         0.002740\n",
       "Po         0.000913\n",
       "Name: GarageQual, dtype: float64"
      ]
     },
     "metadata": {},
     "output_type": "display_data"
    },
    {
     "data": {
      "text/plain": [
       "TA         0.908676\n",
       "missing    0.052968\n",
       "Fa         0.024658\n",
       "Gd         0.008219\n",
       "Po         0.003653\n",
       "Ex         0.001826\n",
       "Name: GarageCond, dtype: float64"
      ]
     },
     "metadata": {},
     "output_type": "display_data"
    },
    {
     "data": {
      "text/plain": [
       "Y    0.916895\n",
       "N    0.061187\n",
       "P    0.021918\n",
       "Name: PavedDrive, dtype: float64"
      ]
     },
     "metadata": {},
     "output_type": "display_data"
    }
   ],
   "source": [
    "# Let's remove any column where the most common value is more than 90% of that col\n",
    "col_to_drop = []\n",
    "for col in X_train_cat.columns:\n",
    "    col_series = X_train_cat[col].value_counts()\n",
    "    display(col_series/len(X_train_cat))\n",
    "    \n",
    "    if col_series[0]/len(X_train_cat) >0.9:\n",
    "        col_to_drop.append(col)"
   ]
  },
  {
   "cell_type": "code",
   "execution_count": 19,
   "metadata": {},
   "outputs": [
    {
     "data": {
      "text/plain": [
       "['Street',\n",
       " 'LandContour',\n",
       " 'Utilities',\n",
       " 'LandSlope',\n",
       " 'Condition2',\n",
       " 'RoofMatl',\n",
       " 'Heating',\n",
       " 'CentralAir',\n",
       " 'Electrical',\n",
       " 'Functional',\n",
       " 'GarageQual',\n",
       " 'GarageCond',\n",
       " 'PavedDrive']"
      ]
     },
     "execution_count": 19,
     "metadata": {},
     "output_type": "execute_result"
    }
   ],
   "source": [
    "col_to_drop"
   ]
  },
  {
   "cell_type": "code",
   "execution_count": 20,
   "metadata": {},
   "outputs": [],
   "source": [
    "# Now drop those\n",
    "X_train_cat = X_train_cat.drop(col_to_drop, axis=1)\n",
    "X_test_cat = X_test_cat.drop(col_to_drop, axis=1)"
   ]
  },
  {
   "cell_type": "code",
   "execution_count": 21,
   "metadata": {},
   "outputs": [],
   "source": [
    "# OneHotEncode categorical variables\n",
    "ohe = OneHotEncoder(handle_unknown='ignore')\n",
    "\n",
    "X_train_ohe = ohe.fit_transform(X_train_cat)\n",
    "X_test_ohe = ohe.transform(X_test_cat)\n",
    "\n",
    "# Convert these columns into a DataFrame \n",
    "ohe_col_names = ohe.get_feature_names(input_features = X_train_cat.columns)\n",
    "cat_train_df = pd.DataFrame(X_train_ohe.todense(), columns=ohe_col_names)\n",
    "cat_test_df = pd.DataFrame(X_test_ohe.todense(), columns=ohe_col_names)"
   ]
  },
  {
   "cell_type": "code",
   "execution_count": 22,
   "metadata": {},
   "outputs": [
    {
     "name": "stdout",
     "output_type": "stream",
     "text": [
      "<class 'pandas.core.frame.DataFrame'>\n",
      "RangeIndex: 1095 entries, 0 to 1094\n",
      "Columns: 167 entries, MSZoning_C (all) to GarageFinish_missing\n",
      "dtypes: float64(167)\n",
      "memory usage: 1.4 MB\n"
     ]
    }
   ],
   "source": [
    "cat_train_df.info()"
   ]
  },
  {
   "cell_type": "code",
   "execution_count": 23,
   "metadata": {},
   "outputs": [
    {
     "data": {
      "text/plain": [
       "LinearRegression(copy_X=True, fit_intercept=True, n_jobs=None, normalize=False)"
      ]
     },
     "execution_count": 23,
     "metadata": {},
     "output_type": "execute_result"
    }
   ],
   "source": [
    "# Put it all back together\n",
    "X_train_all = pd.concat([pd.DataFrame(X_train_imsc), cat_train_df], axis=1)\n",
    "X_test_all = pd.concat([pd.DataFrame(X_test_imsc), cat_test_df], axis=1)\n",
    "\n",
    "# Fit the model\n",
    "linreg = LinearRegression()\n",
    "linreg.fit(X_train_all, y_train)"
   ]
  },
  {
   "cell_type": "code",
   "execution_count": 24,
   "metadata": {},
   "outputs": [
    {
     "data": {
      "text/html": [
       "<div>\n",
       "<style scoped>\n",
       "    .dataframe tbody tr th:only-of-type {\n",
       "        vertical-align: middle;\n",
       "    }\n",
       "\n",
       "    .dataframe tbody tr th {\n",
       "        vertical-align: top;\n",
       "    }\n",
       "\n",
       "    .dataframe thead th {\n",
       "        text-align: right;\n",
       "    }\n",
       "</style>\n",
       "<table border=\"1\" class=\"dataframe\">\n",
       "  <thead>\n",
       "    <tr style=\"text-align: right;\">\n",
       "      <th></th>\n",
       "      <th>0</th>\n",
       "      <th>1</th>\n",
       "      <th>2</th>\n",
       "      <th>3</th>\n",
       "      <th>4</th>\n",
       "      <th>5</th>\n",
       "      <th>6</th>\n",
       "      <th>7</th>\n",
       "      <th>8</th>\n",
       "      <th>9</th>\n",
       "      <th>...</th>\n",
       "      <th>GarageType_Attchd</th>\n",
       "      <th>GarageType_Basment</th>\n",
       "      <th>GarageType_BuiltIn</th>\n",
       "      <th>GarageType_CarPort</th>\n",
       "      <th>GarageType_Detchd</th>\n",
       "      <th>GarageType_missing</th>\n",
       "      <th>GarageFinish_Fin</th>\n",
       "      <th>GarageFinish_RFn</th>\n",
       "      <th>GarageFinish_Unf</th>\n",
       "      <th>GarageFinish_missing</th>\n",
       "    </tr>\n",
       "  </thead>\n",
       "  <tbody>\n",
       "    <tr>\n",
       "      <th>0</th>\n",
       "      <td>0.588235</td>\n",
       "      <td>0.008797</td>\n",
       "      <td>0.666667</td>\n",
       "      <td>0.500</td>\n",
       "      <td>0.963768</td>\n",
       "      <td>0.933333</td>\n",
       "      <td>0.010160</td>\n",
       "      <td>0.002835</td>\n",
       "      <td>0.000000</td>\n",
       "      <td>0.569349</td>\n",
       "      <td>...</td>\n",
       "      <td>1.0</td>\n",
       "      <td>0.0</td>\n",
       "      <td>0.0</td>\n",
       "      <td>0.0</td>\n",
       "      <td>0.0</td>\n",
       "      <td>0.0</td>\n",
       "      <td>1.0</td>\n",
       "      <td>0.0</td>\n",
       "      <td>0.0</td>\n",
       "      <td>0.0</td>\n",
       "    </tr>\n",
       "    <tr>\n",
       "      <th>1</th>\n",
       "      <td>0.000000</td>\n",
       "      <td>0.041319</td>\n",
       "      <td>0.555556</td>\n",
       "      <td>0.625</td>\n",
       "      <td>0.739130</td>\n",
       "      <td>0.816667</td>\n",
       "      <td>0.071843</td>\n",
       "      <td>0.117470</td>\n",
       "      <td>0.334516</td>\n",
       "      <td>0.000000</td>\n",
       "      <td>...</td>\n",
       "      <td>1.0</td>\n",
       "      <td>0.0</td>\n",
       "      <td>0.0</td>\n",
       "      <td>0.0</td>\n",
       "      <td>0.0</td>\n",
       "      <td>0.0</td>\n",
       "      <td>0.0</td>\n",
       "      <td>1.0</td>\n",
       "      <td>0.0</td>\n",
       "      <td>0.0</td>\n",
       "    </tr>\n",
       "    <tr>\n",
       "      <th>2</th>\n",
       "      <td>0.176471</td>\n",
       "      <td>0.036271</td>\n",
       "      <td>0.555556</td>\n",
       "      <td>0.500</td>\n",
       "      <td>0.485507</td>\n",
       "      <td>0.000000</td>\n",
       "      <td>0.000000</td>\n",
       "      <td>0.036145</td>\n",
       "      <td>0.000000</td>\n",
       "      <td>0.152397</td>\n",
       "      <td>...</td>\n",
       "      <td>0.0</td>\n",
       "      <td>0.0</td>\n",
       "      <td>0.0</td>\n",
       "      <td>0.0</td>\n",
       "      <td>1.0</td>\n",
       "      <td>0.0</td>\n",
       "      <td>0.0</td>\n",
       "      <td>0.0</td>\n",
       "      <td>1.0</td>\n",
       "      <td>0.0</td>\n",
       "    </tr>\n",
       "    <tr>\n",
       "      <th>3</th>\n",
       "      <td>0.000000</td>\n",
       "      <td>0.051611</td>\n",
       "      <td>0.444444</td>\n",
       "      <td>0.500</td>\n",
       "      <td>0.637681</td>\n",
       "      <td>0.466667</td>\n",
       "      <td>0.000000</td>\n",
       "      <td>0.000000</td>\n",
       "      <td>0.000000</td>\n",
       "      <td>0.418664</td>\n",
       "      <td>...</td>\n",
       "      <td>1.0</td>\n",
       "      <td>0.0</td>\n",
       "      <td>0.0</td>\n",
       "      <td>0.0</td>\n",
       "      <td>0.0</td>\n",
       "      <td>0.0</td>\n",
       "      <td>0.0</td>\n",
       "      <td>1.0</td>\n",
       "      <td>0.0</td>\n",
       "      <td>0.0</td>\n",
       "    </tr>\n",
       "    <tr>\n",
       "      <th>4</th>\n",
       "      <td>0.000000</td>\n",
       "      <td>0.039496</td>\n",
       "      <td>0.555556</td>\n",
       "      <td>0.625</td>\n",
       "      <td>0.623188</td>\n",
       "      <td>0.133333</td>\n",
       "      <td>0.176343</td>\n",
       "      <td>0.107725</td>\n",
       "      <td>0.000000</td>\n",
       "      <td>0.357021</td>\n",
       "      <td>...</td>\n",
       "      <td>1.0</td>\n",
       "      <td>0.0</td>\n",
       "      <td>0.0</td>\n",
       "      <td>0.0</td>\n",
       "      <td>0.0</td>\n",
       "      <td>0.0</td>\n",
       "      <td>0.0</td>\n",
       "      <td>1.0</td>\n",
       "      <td>0.0</td>\n",
       "      <td>0.0</td>\n",
       "    </tr>\n",
       "    <tr>\n",
       "      <th>...</th>\n",
       "      <td>...</td>\n",
       "      <td>...</td>\n",
       "      <td>...</td>\n",
       "      <td>...</td>\n",
       "      <td>...</td>\n",
       "      <td>...</td>\n",
       "      <td>...</td>\n",
       "      <td>...</td>\n",
       "      <td>...</td>\n",
       "      <td>...</td>\n",
       "      <td>...</td>\n",
       "      <td>...</td>\n",
       "      <td>...</td>\n",
       "      <td>...</td>\n",
       "      <td>...</td>\n",
       "      <td>...</td>\n",
       "      <td>...</td>\n",
       "      <td>...</td>\n",
       "      <td>...</td>\n",
       "      <td>...</td>\n",
       "      <td>...</td>\n",
       "    </tr>\n",
       "    <tr>\n",
       "      <th>1090</th>\n",
       "      <td>0.000000</td>\n",
       "      <td>0.037472</td>\n",
       "      <td>0.555556</td>\n",
       "      <td>0.500</td>\n",
       "      <td>0.971014</td>\n",
       "      <td>0.933333</td>\n",
       "      <td>0.000000</td>\n",
       "      <td>0.004252</td>\n",
       "      <td>0.000000</td>\n",
       "      <td>0.552226</td>\n",
       "      <td>...</td>\n",
       "      <td>1.0</td>\n",
       "      <td>0.0</td>\n",
       "      <td>0.0</td>\n",
       "      <td>0.0</td>\n",
       "      <td>0.0</td>\n",
       "      <td>0.0</td>\n",
       "      <td>0.0</td>\n",
       "      <td>1.0</td>\n",
       "      <td>0.0</td>\n",
       "      <td>0.0</td>\n",
       "    </tr>\n",
       "    <tr>\n",
       "      <th>1091</th>\n",
       "      <td>0.176471</td>\n",
       "      <td>0.030400</td>\n",
       "      <td>0.333333</td>\n",
       "      <td>0.250</td>\n",
       "      <td>0.405797</td>\n",
       "      <td>0.000000</td>\n",
       "      <td>0.000000</td>\n",
       "      <td>0.110206</td>\n",
       "      <td>0.000000</td>\n",
       "      <td>0.214041</td>\n",
       "      <td>...</td>\n",
       "      <td>0.0</td>\n",
       "      <td>0.0</td>\n",
       "      <td>0.0</td>\n",
       "      <td>0.0</td>\n",
       "      <td>1.0</td>\n",
       "      <td>0.0</td>\n",
       "      <td>0.0</td>\n",
       "      <td>0.0</td>\n",
       "      <td>1.0</td>\n",
       "      <td>0.0</td>\n",
       "    </tr>\n",
       "    <tr>\n",
       "      <th>1092</th>\n",
       "      <td>0.000000</td>\n",
       "      <td>0.032120</td>\n",
       "      <td>0.444444</td>\n",
       "      <td>0.750</td>\n",
       "      <td>0.601449</td>\n",
       "      <td>0.666667</td>\n",
       "      <td>0.000000</td>\n",
       "      <td>0.029589</td>\n",
       "      <td>0.000000</td>\n",
       "      <td>0.298373</td>\n",
       "      <td>...</td>\n",
       "      <td>0.0</td>\n",
       "      <td>0.0</td>\n",
       "      <td>0.0</td>\n",
       "      <td>0.0</td>\n",
       "      <td>1.0</td>\n",
       "      <td>0.0</td>\n",
       "      <td>0.0</td>\n",
       "      <td>0.0</td>\n",
       "      <td>1.0</td>\n",
       "      <td>0.0</td>\n",
       "    </tr>\n",
       "    <tr>\n",
       "      <th>1093</th>\n",
       "      <td>0.176471</td>\n",
       "      <td>0.029643</td>\n",
       "      <td>0.666667</td>\n",
       "      <td>0.875</td>\n",
       "      <td>0.333333</td>\n",
       "      <td>0.800000</td>\n",
       "      <td>0.000000</td>\n",
       "      <td>0.000000</td>\n",
       "      <td>0.000000</td>\n",
       "      <td>0.390411</td>\n",
       "      <td>...</td>\n",
       "      <td>0.0</td>\n",
       "      <td>0.0</td>\n",
       "      <td>0.0</td>\n",
       "      <td>0.0</td>\n",
       "      <td>1.0</td>\n",
       "      <td>0.0</td>\n",
       "      <td>0.0</td>\n",
       "      <td>0.0</td>\n",
       "      <td>1.0</td>\n",
       "      <td>0.0</td>\n",
       "    </tr>\n",
       "    <tr>\n",
       "      <th>1094</th>\n",
       "      <td>0.588235</td>\n",
       "      <td>0.011143</td>\n",
       "      <td>0.666667</td>\n",
       "      <td>0.500</td>\n",
       "      <td>0.978261</td>\n",
       "      <td>0.950000</td>\n",
       "      <td>0.094340</td>\n",
       "      <td>0.000000</td>\n",
       "      <td>0.000000</td>\n",
       "      <td>0.587757</td>\n",
       "      <td>...</td>\n",
       "      <td>1.0</td>\n",
       "      <td>0.0</td>\n",
       "      <td>0.0</td>\n",
       "      <td>0.0</td>\n",
       "      <td>0.0</td>\n",
       "      <td>0.0</td>\n",
       "      <td>1.0</td>\n",
       "      <td>0.0</td>\n",
       "      <td>0.0</td>\n",
       "      <td>0.0</td>\n",
       "    </tr>\n",
       "  </tbody>\n",
       "</table>\n",
       "<p>1095 rows × 200 columns</p>\n",
       "</div>"
      ],
      "text/plain": [
       "             0         1         2      3         4         5         6  \\\n",
       "0     0.588235  0.008797  0.666667  0.500  0.963768  0.933333  0.010160   \n",
       "1     0.000000  0.041319  0.555556  0.625  0.739130  0.816667  0.071843   \n",
       "2     0.176471  0.036271  0.555556  0.500  0.485507  0.000000  0.000000   \n",
       "3     0.000000  0.051611  0.444444  0.500  0.637681  0.466667  0.000000   \n",
       "4     0.000000  0.039496  0.555556  0.625  0.623188  0.133333  0.176343   \n",
       "...        ...       ...       ...    ...       ...       ...       ...   \n",
       "1090  0.000000  0.037472  0.555556  0.500  0.971014  0.933333  0.000000   \n",
       "1091  0.176471  0.030400  0.333333  0.250  0.405797  0.000000  0.000000   \n",
       "1092  0.000000  0.032120  0.444444  0.750  0.601449  0.666667  0.000000   \n",
       "1093  0.176471  0.029643  0.666667  0.875  0.333333  0.800000  0.000000   \n",
       "1094  0.588235  0.011143  0.666667  0.500  0.978261  0.950000  0.094340   \n",
       "\n",
       "             7         8         9  ...  GarageType_Attchd  \\\n",
       "0     0.002835  0.000000  0.569349  ...                1.0   \n",
       "1     0.117470  0.334516  0.000000  ...                1.0   \n",
       "2     0.036145  0.000000  0.152397  ...                0.0   \n",
       "3     0.000000  0.000000  0.418664  ...                1.0   \n",
       "4     0.107725  0.000000  0.357021  ...                1.0   \n",
       "...        ...       ...       ...  ...                ...   \n",
       "1090  0.004252  0.000000  0.552226  ...                1.0   \n",
       "1091  0.110206  0.000000  0.214041  ...                0.0   \n",
       "1092  0.029589  0.000000  0.298373  ...                0.0   \n",
       "1093  0.000000  0.000000  0.390411  ...                0.0   \n",
       "1094  0.000000  0.000000  0.587757  ...                1.0   \n",
       "\n",
       "      GarageType_Basment  GarageType_BuiltIn  GarageType_CarPort  \\\n",
       "0                    0.0                 0.0                 0.0   \n",
       "1                    0.0                 0.0                 0.0   \n",
       "2                    0.0                 0.0                 0.0   \n",
       "3                    0.0                 0.0                 0.0   \n",
       "4                    0.0                 0.0                 0.0   \n",
       "...                  ...                 ...                 ...   \n",
       "1090                 0.0                 0.0                 0.0   \n",
       "1091                 0.0                 0.0                 0.0   \n",
       "1092                 0.0                 0.0                 0.0   \n",
       "1093                 0.0                 0.0                 0.0   \n",
       "1094                 0.0                 0.0                 0.0   \n",
       "\n",
       "      GarageType_Detchd  GarageType_missing  GarageFinish_Fin  \\\n",
       "0                   0.0                 0.0               1.0   \n",
       "1                   0.0                 0.0               0.0   \n",
       "2                   1.0                 0.0               0.0   \n",
       "3                   0.0                 0.0               0.0   \n",
       "4                   0.0                 0.0               0.0   \n",
       "...                 ...                 ...               ...   \n",
       "1090                0.0                 0.0               0.0   \n",
       "1091                1.0                 0.0               0.0   \n",
       "1092                1.0                 0.0               0.0   \n",
       "1093                1.0                 0.0               0.0   \n",
       "1094                0.0                 0.0               1.0   \n",
       "\n",
       "      GarageFinish_RFn  GarageFinish_Unf  GarageFinish_missing  \n",
       "0                  0.0               0.0                   0.0  \n",
       "1                  1.0               0.0                   0.0  \n",
       "2                  0.0               1.0                   0.0  \n",
       "3                  1.0               0.0                   0.0  \n",
       "4                  1.0               0.0                   0.0  \n",
       "...                ...               ...                   ...  \n",
       "1090               1.0               0.0                   0.0  \n",
       "1091               0.0               1.0                   0.0  \n",
       "1092               0.0               1.0                   0.0  \n",
       "1093               0.0               1.0                   0.0  \n",
       "1094               0.0               0.0                   0.0  \n",
       "\n",
       "[1095 rows x 200 columns]"
      ]
     },
     "execution_count": 24,
     "metadata": {},
     "output_type": "execute_result"
    }
   ],
   "source": [
    "X_train_all"
   ]
  },
  {
   "cell_type": "code",
   "execution_count": 25,
   "metadata": {},
   "outputs": [],
   "source": [
    "# Write a quick evaluation function\n",
    "def evaluate(train_actual, train_predicted, test_actual, test_predicted):\n",
    "    '''\n",
    "    Takes in both actual and predicted values, for the train and test set\n",
    "    Then prints the scores based on those values\n",
    "    \n",
    "    Inputs:\n",
    "    ---------\n",
    "    train_actual = actual target values for the train set\n",
    "    train_predicted = predicted target values for the train set\n",
    "    test_actual = actual target values for the test set\n",
    "    test_predicted = predicted target values for the test set\n",
    "    '''\n",
    "    \n",
    "    print('Train R2:', r2_score(train_actual, train_predicted))\n",
    "    print('Test R2:', r2_score(test_actual, test_predicted))\n",
    "    print('******')\n",
    "    print('Train MSE:', mean_squared_error(train_actual, train_predicted))\n",
    "    print('Test MSE:', mean_squared_error(test_actual, test_predicted))\n",
    "    print('******')\n",
    "    print('Train RSME:', mean_squared_error(train_actual, train_predicted, squared=False))\n",
    "    print('Test RSME:', mean_squared_error(test_actual, test_predicted, squared=False))"
   ]
  },
  {
   "cell_type": "code",
   "execution_count": 26,
   "metadata": {
    "scrolled": false
   },
   "outputs": [
    {
     "name": "stdout",
     "output_type": "stream",
     "text": [
      "Train R2: 0.8902004535013616\n",
      "Test R2: -6.479685051457838e+16\n",
      "******\n",
      "Train MSE: 666641921.9359553\n",
      "Test MSE: 4.539219634728537e+26\n",
      "******\n",
      "Train RSME: 25819.409790619833\n",
      "Test RSME: 21305444456120.92\n"
     ]
    }
   ],
   "source": [
    "# Grab predictions and evaluate\n",
    "train_preds = linreg.predict(X_train_all)\n",
    "test_preds = linreg.predict(X_test_all)\n",
    "\n",
    "evaluate(y_train, train_preds, y_test, test_preds)"
   ]
  },
  {
   "cell_type": "code",
   "execution_count": 27,
   "metadata": {},
   "outputs": [],
   "source": [
    "# Plot residuals?\n"
   ]
  },
  {
   "cell_type": "code",
   "execution_count": 28,
   "metadata": {
    "scrolled": true
   },
   "outputs": [],
   "source": [
    "# Explore coefficients\n",
    "\n",
    "def eval_coefficients(model, column_names):\n",
    "    '''\n",
    "    Prints an exploration of the coefficients\n",
    "    \n",
    "    Inputs:\n",
    "    model = a fit linear model (sklearn)\n",
    "    column_names = a list of feature names that matches the order passed into the model\n",
    "    \n",
    "    Outputs:\n",
    "    coefs = a Series, sorted by coefficient value\n",
    "    '''\n",
    "    \n",
    "    print('Total number of coefficients: ', len(model.coef_))\n",
    "    print('Coefficients close to zero: ', sum(abs(model,coef_) < 10**(-10)))\n",
    "    print(f'Intercept: (model.intercept_)')\n",
    "    \n",
    "    coefs = pd.Series(model.coef_, index=column_names)\n",
    "    display(coefs.sort_values(ascending=False))\n",
    "    return coefs.sort_values(ascending=False)"
   ]
  },
  {
   "cell_type": "code",
   "execution_count": 29,
   "metadata": {},
   "outputs": [
    {
     "data": {
      "text/plain": [
       "Index(['MSSubClass', 'LotArea', 'OverallQual', 'OverallCond', 'YearBuilt',\n",
       "       'YearRemodAdd', 'MasVnrArea', 'BsmtFinSF1', 'BsmtFinSF2', 'BsmtUnfSF',\n",
       "       'TotalBsmtSF', '1stFlrSF', '2ndFlrSF', 'LowQualFinSF', 'GrLivArea',\n",
       "       'BsmtFullBath', 'BsmtHalfBath', 'FullBath', 'HalfBath', 'BedroomAbvGr',\n",
       "       'KitchenAbvGr', 'TotRmsAbvGrd', 'Fireplaces', 'GarageYrBlt',\n",
       "       'GarageCars', 'GarageArea', 'WoodDeckSF', 'OpenPorchSF',\n",
       "       'EnclosedPorch', '3SsnPorch', 'ScreenPorch', 'PoolArea', 'MiscVal'],\n",
       "      dtype='object')"
      ]
     },
     "execution_count": 29,
     "metadata": {},
     "output_type": "execute_result"
    }
   ],
   "source": [
    "X_train_cont.columns"
   ]
  },
  {
   "cell_type": "code",
   "execution_count": 30,
   "metadata": {},
   "outputs": [
    {
     "data": {
      "text/plain": [
       "['MSSubClass',\n",
       " 'LotArea',\n",
       " 'OverallQual',\n",
       " 'OverallCond',\n",
       " 'YearBuilt',\n",
       " 'YearRemodAdd',\n",
       " 'MasVnrArea',\n",
       " 'BsmtFinSF1',\n",
       " 'BsmtFinSF2',\n",
       " 'BsmtUnfSF',\n",
       " 'TotalBsmtSF',\n",
       " '1stFlrSF',\n",
       " '2ndFlrSF',\n",
       " 'LowQualFinSF',\n",
       " 'GrLivArea',\n",
       " 'BsmtFullBath',\n",
       " 'BsmtHalfBath',\n",
       " 'FullBath',\n",
       " 'HalfBath',\n",
       " 'BedroomAbvGr',\n",
       " 'KitchenAbvGr',\n",
       " 'TotRmsAbvGrd',\n",
       " 'Fireplaces',\n",
       " 'GarageYrBlt',\n",
       " 'GarageCars',\n",
       " 'GarageArea',\n",
       " 'WoodDeckSF',\n",
       " 'OpenPorchSF',\n",
       " 'EnclosedPorch',\n",
       " '3SsnPorch',\n",
       " 'ScreenPorch',\n",
       " 'PoolArea',\n",
       " 'MiscVal',\n",
       " 'MSZoning_C (all)',\n",
       " 'MSZoning_FV',\n",
       " 'MSZoning_RH',\n",
       " 'MSZoning_RL',\n",
       " 'MSZoning_RM',\n",
       " 'LotShape_IR1',\n",
       " 'LotShape_IR2',\n",
       " 'LotShape_IR3',\n",
       " 'LotShape_Reg',\n",
       " 'LotConfig_Corner',\n",
       " 'LotConfig_CulDSac',\n",
       " 'LotConfig_FR2',\n",
       " 'LotConfig_FR3',\n",
       " 'LotConfig_Inside',\n",
       " 'Neighborhood_Blmngtn',\n",
       " 'Neighborhood_Blueste',\n",
       " 'Neighborhood_BrDale',\n",
       " 'Neighborhood_BrkSide',\n",
       " 'Neighborhood_ClearCr',\n",
       " 'Neighborhood_CollgCr',\n",
       " 'Neighborhood_Crawfor',\n",
       " 'Neighborhood_Edwards',\n",
       " 'Neighborhood_Gilbert',\n",
       " 'Neighborhood_IDOTRR',\n",
       " 'Neighborhood_MeadowV',\n",
       " 'Neighborhood_Mitchel',\n",
       " 'Neighborhood_NAmes',\n",
       " 'Neighborhood_NPkVill',\n",
       " 'Neighborhood_NWAmes',\n",
       " 'Neighborhood_NoRidge',\n",
       " 'Neighborhood_NridgHt',\n",
       " 'Neighborhood_OldTown',\n",
       " 'Neighborhood_SWISU',\n",
       " 'Neighborhood_Sawyer',\n",
       " 'Neighborhood_SawyerW',\n",
       " 'Neighborhood_Somerst',\n",
       " 'Neighborhood_StoneBr',\n",
       " 'Neighborhood_Timber',\n",
       " 'Neighborhood_Veenker',\n",
       " 'Condition1_Artery',\n",
       " 'Condition1_Feedr',\n",
       " 'Condition1_Norm',\n",
       " 'Condition1_PosA',\n",
       " 'Condition1_PosN',\n",
       " 'Condition1_RRAe',\n",
       " 'Condition1_RRAn',\n",
       " 'Condition1_RRNe',\n",
       " 'Condition1_RRNn',\n",
       " 'BldgType_1Fam',\n",
       " 'BldgType_2fmCon',\n",
       " 'BldgType_Duplex',\n",
       " 'BldgType_Twnhs',\n",
       " 'BldgType_TwnhsE',\n",
       " 'HouseStyle_1.5Fin',\n",
       " 'HouseStyle_1.5Unf',\n",
       " 'HouseStyle_1Story',\n",
       " 'HouseStyle_2.5Fin',\n",
       " 'HouseStyle_2.5Unf',\n",
       " 'HouseStyle_2Story',\n",
       " 'HouseStyle_SFoyer',\n",
       " 'HouseStyle_SLvl',\n",
       " 'RoofStyle_Flat',\n",
       " 'RoofStyle_Gable',\n",
       " 'RoofStyle_Gambrel',\n",
       " 'RoofStyle_Hip',\n",
       " 'RoofStyle_Mansard',\n",
       " 'RoofStyle_Shed',\n",
       " 'Exterior1st_AsbShng',\n",
       " 'Exterior1st_AsphShn',\n",
       " 'Exterior1st_BrkComm',\n",
       " 'Exterior1st_BrkFace',\n",
       " 'Exterior1st_CBlock',\n",
       " 'Exterior1st_CemntBd',\n",
       " 'Exterior1st_HdBoard',\n",
       " 'Exterior1st_ImStucc',\n",
       " 'Exterior1st_MetalSd',\n",
       " 'Exterior1st_Plywood',\n",
       " 'Exterior1st_Stone',\n",
       " 'Exterior1st_Stucco',\n",
       " 'Exterior1st_VinylSd',\n",
       " 'Exterior1st_Wd Sdng',\n",
       " 'Exterior1st_WdShing',\n",
       " 'Exterior2nd_AsbShng',\n",
       " 'Exterior2nd_AsphShn',\n",
       " 'Exterior2nd_Brk Cmn',\n",
       " 'Exterior2nd_BrkFace',\n",
       " 'Exterior2nd_CBlock',\n",
       " 'Exterior2nd_CmentBd',\n",
       " 'Exterior2nd_HdBoard',\n",
       " 'Exterior2nd_ImStucc',\n",
       " 'Exterior2nd_MetalSd',\n",
       " 'Exterior2nd_Other',\n",
       " 'Exterior2nd_Plywood',\n",
       " 'Exterior2nd_Stone',\n",
       " 'Exterior2nd_Stucco',\n",
       " 'Exterior2nd_VinylSd',\n",
       " 'Exterior2nd_Wd Sdng',\n",
       " 'Exterior2nd_Wd Shng',\n",
       " 'MasVnrType_BrkCmn',\n",
       " 'MasVnrType_BrkFace',\n",
       " 'MasVnrType_None',\n",
       " 'MasVnrType_Stone',\n",
       " 'MasVnrType_missing',\n",
       " 'ExterQual_Ex',\n",
       " 'ExterQual_Fa',\n",
       " 'ExterQual_Gd',\n",
       " 'ExterQual_TA',\n",
       " 'ExterCond_Ex',\n",
       " 'ExterCond_Fa',\n",
       " 'ExterCond_Gd',\n",
       " 'ExterCond_Po',\n",
       " 'ExterCond_TA',\n",
       " 'Foundation_BrkTil',\n",
       " 'Foundation_CBlock',\n",
       " 'Foundation_PConc',\n",
       " 'Foundation_Slab',\n",
       " 'Foundation_Stone',\n",
       " 'Foundation_Wood',\n",
       " 'BsmtQual_Ex',\n",
       " 'BsmtQual_Fa',\n",
       " 'BsmtQual_Gd',\n",
       " 'BsmtQual_TA',\n",
       " 'BsmtQual_missing',\n",
       " 'BsmtCond_Fa',\n",
       " 'BsmtCond_Gd',\n",
       " 'BsmtCond_Po',\n",
       " 'BsmtCond_TA',\n",
       " 'BsmtCond_missing',\n",
       " 'BsmtExposure_Av',\n",
       " 'BsmtExposure_Gd',\n",
       " 'BsmtExposure_Mn',\n",
       " 'BsmtExposure_No',\n",
       " 'BsmtExposure_missing',\n",
       " 'BsmtFinType1_ALQ',\n",
       " 'BsmtFinType1_BLQ',\n",
       " 'BsmtFinType1_GLQ',\n",
       " 'BsmtFinType1_LwQ',\n",
       " 'BsmtFinType1_Rec',\n",
       " 'BsmtFinType1_Unf',\n",
       " 'BsmtFinType1_missing',\n",
       " 'BsmtFinType2_ALQ',\n",
       " 'BsmtFinType2_BLQ',\n",
       " 'BsmtFinType2_GLQ',\n",
       " 'BsmtFinType2_LwQ',\n",
       " 'BsmtFinType2_Rec',\n",
       " 'BsmtFinType2_Unf',\n",
       " 'BsmtFinType2_missing',\n",
       " 'HeatingQC_Ex',\n",
       " 'HeatingQC_Fa',\n",
       " 'HeatingQC_Gd',\n",
       " 'HeatingQC_Po',\n",
       " 'HeatingQC_TA',\n",
       " 'KitchenQual_Ex',\n",
       " 'KitchenQual_Fa',\n",
       " 'KitchenQual_Gd',\n",
       " 'KitchenQual_TA',\n",
       " 'GarageType_2Types',\n",
       " 'GarageType_Attchd',\n",
       " 'GarageType_Basment',\n",
       " 'GarageType_BuiltIn',\n",
       " 'GarageType_CarPort',\n",
       " 'GarageType_Detchd',\n",
       " 'GarageType_missing',\n",
       " 'GarageFinish_Fin',\n",
       " 'GarageFinish_RFn',\n",
       " 'GarageFinish_Unf',\n",
       " 'GarageFinish_missing']"
      ]
     },
     "execution_count": 30,
     "metadata": {},
     "output_type": "execute_result"
    }
   ],
   "source": [
    "[*X_train_cont.columns, *ohe_col_names]"
   ]
  },
  {
   "cell_type": "code",
   "execution_count": 31,
   "metadata": {},
   "outputs": [],
   "source": [
    "model_cols = [*X_train_cont.columns, *ohe_col_names]"
   ]
  },
  {
   "cell_type": "code",
   "execution_count": 32,
   "metadata": {},
   "outputs": [
    {
     "data": {
      "text/plain": [
       "200"
      ]
     },
     "execution_count": 32,
     "metadata": {},
     "output_type": "execute_result"
    }
   ],
   "source": [
    "len(model_cols)"
   ]
  },
  {
   "cell_type": "code",
   "execution_count": 33,
   "metadata": {},
   "outputs": [
    {
     "data": {
      "text/html": [
       "<div>\n",
       "<style scoped>\n",
       "    .dataframe tbody tr th:only-of-type {\n",
       "        vertical-align: middle;\n",
       "    }\n",
       "\n",
       "    .dataframe tbody tr th {\n",
       "        vertical-align: top;\n",
       "    }\n",
       "\n",
       "    .dataframe thead th {\n",
       "        text-align: right;\n",
       "    }\n",
       "</style>\n",
       "<table border=\"1\" class=\"dataframe\">\n",
       "  <thead>\n",
       "    <tr style=\"text-align: right;\">\n",
       "      <th></th>\n",
       "      <th>0</th>\n",
       "      <th>1</th>\n",
       "      <th>2</th>\n",
       "      <th>3</th>\n",
       "      <th>4</th>\n",
       "      <th>5</th>\n",
       "      <th>6</th>\n",
       "      <th>7</th>\n",
       "      <th>8</th>\n",
       "      <th>9</th>\n",
       "      <th>...</th>\n",
       "      <th>GarageType_Attchd</th>\n",
       "      <th>GarageType_Basment</th>\n",
       "      <th>GarageType_BuiltIn</th>\n",
       "      <th>GarageType_CarPort</th>\n",
       "      <th>GarageType_Detchd</th>\n",
       "      <th>GarageType_missing</th>\n",
       "      <th>GarageFinish_Fin</th>\n",
       "      <th>GarageFinish_RFn</th>\n",
       "      <th>GarageFinish_Unf</th>\n",
       "      <th>GarageFinish_missing</th>\n",
       "    </tr>\n",
       "  </thead>\n",
       "  <tbody>\n",
       "    <tr>\n",
       "      <th>0</th>\n",
       "      <td>0.588235</td>\n",
       "      <td>0.008797</td>\n",
       "      <td>0.666667</td>\n",
       "      <td>0.500</td>\n",
       "      <td>0.963768</td>\n",
       "      <td>0.933333</td>\n",
       "      <td>0.010160</td>\n",
       "      <td>0.002835</td>\n",
       "      <td>0.000000</td>\n",
       "      <td>0.569349</td>\n",
       "      <td>...</td>\n",
       "      <td>1.0</td>\n",
       "      <td>0.0</td>\n",
       "      <td>0.0</td>\n",
       "      <td>0.0</td>\n",
       "      <td>0.0</td>\n",
       "      <td>0.0</td>\n",
       "      <td>1.0</td>\n",
       "      <td>0.0</td>\n",
       "      <td>0.0</td>\n",
       "      <td>0.0</td>\n",
       "    </tr>\n",
       "    <tr>\n",
       "      <th>1</th>\n",
       "      <td>0.000000</td>\n",
       "      <td>0.041319</td>\n",
       "      <td>0.555556</td>\n",
       "      <td>0.625</td>\n",
       "      <td>0.739130</td>\n",
       "      <td>0.816667</td>\n",
       "      <td>0.071843</td>\n",
       "      <td>0.117470</td>\n",
       "      <td>0.334516</td>\n",
       "      <td>0.000000</td>\n",
       "      <td>...</td>\n",
       "      <td>1.0</td>\n",
       "      <td>0.0</td>\n",
       "      <td>0.0</td>\n",
       "      <td>0.0</td>\n",
       "      <td>0.0</td>\n",
       "      <td>0.0</td>\n",
       "      <td>0.0</td>\n",
       "      <td>1.0</td>\n",
       "      <td>0.0</td>\n",
       "      <td>0.0</td>\n",
       "    </tr>\n",
       "    <tr>\n",
       "      <th>2</th>\n",
       "      <td>0.176471</td>\n",
       "      <td>0.036271</td>\n",
       "      <td>0.555556</td>\n",
       "      <td>0.500</td>\n",
       "      <td>0.485507</td>\n",
       "      <td>0.000000</td>\n",
       "      <td>0.000000</td>\n",
       "      <td>0.036145</td>\n",
       "      <td>0.000000</td>\n",
       "      <td>0.152397</td>\n",
       "      <td>...</td>\n",
       "      <td>0.0</td>\n",
       "      <td>0.0</td>\n",
       "      <td>0.0</td>\n",
       "      <td>0.0</td>\n",
       "      <td>1.0</td>\n",
       "      <td>0.0</td>\n",
       "      <td>0.0</td>\n",
       "      <td>0.0</td>\n",
       "      <td>1.0</td>\n",
       "      <td>0.0</td>\n",
       "    </tr>\n",
       "    <tr>\n",
       "      <th>3</th>\n",
       "      <td>0.000000</td>\n",
       "      <td>0.051611</td>\n",
       "      <td>0.444444</td>\n",
       "      <td>0.500</td>\n",
       "      <td>0.637681</td>\n",
       "      <td>0.466667</td>\n",
       "      <td>0.000000</td>\n",
       "      <td>0.000000</td>\n",
       "      <td>0.000000</td>\n",
       "      <td>0.418664</td>\n",
       "      <td>...</td>\n",
       "      <td>1.0</td>\n",
       "      <td>0.0</td>\n",
       "      <td>0.0</td>\n",
       "      <td>0.0</td>\n",
       "      <td>0.0</td>\n",
       "      <td>0.0</td>\n",
       "      <td>0.0</td>\n",
       "      <td>1.0</td>\n",
       "      <td>0.0</td>\n",
       "      <td>0.0</td>\n",
       "    </tr>\n",
       "    <tr>\n",
       "      <th>4</th>\n",
       "      <td>0.000000</td>\n",
       "      <td>0.039496</td>\n",
       "      <td>0.555556</td>\n",
       "      <td>0.625</td>\n",
       "      <td>0.623188</td>\n",
       "      <td>0.133333</td>\n",
       "      <td>0.176343</td>\n",
       "      <td>0.107725</td>\n",
       "      <td>0.000000</td>\n",
       "      <td>0.357021</td>\n",
       "      <td>...</td>\n",
       "      <td>1.0</td>\n",
       "      <td>0.0</td>\n",
       "      <td>0.0</td>\n",
       "      <td>0.0</td>\n",
       "      <td>0.0</td>\n",
       "      <td>0.0</td>\n",
       "      <td>0.0</td>\n",
       "      <td>1.0</td>\n",
       "      <td>0.0</td>\n",
       "      <td>0.0</td>\n",
       "    </tr>\n",
       "  </tbody>\n",
       "</table>\n",
       "<p>5 rows × 200 columns</p>\n",
       "</div>"
      ],
      "text/plain": [
       "          0         1         2      3         4         5         6  \\\n",
       "0  0.588235  0.008797  0.666667  0.500  0.963768  0.933333  0.010160   \n",
       "1  0.000000  0.041319  0.555556  0.625  0.739130  0.816667  0.071843   \n",
       "2  0.176471  0.036271  0.555556  0.500  0.485507  0.000000  0.000000   \n",
       "3  0.000000  0.051611  0.444444  0.500  0.637681  0.466667  0.000000   \n",
       "4  0.000000  0.039496  0.555556  0.625  0.623188  0.133333  0.176343   \n",
       "\n",
       "          7         8         9  ...  GarageType_Attchd  GarageType_Basment  \\\n",
       "0  0.002835  0.000000  0.569349  ...                1.0                 0.0   \n",
       "1  0.117470  0.334516  0.000000  ...                1.0                 0.0   \n",
       "2  0.036145  0.000000  0.152397  ...                0.0                 0.0   \n",
       "3  0.000000  0.000000  0.418664  ...                1.0                 0.0   \n",
       "4  0.107725  0.000000  0.357021  ...                1.0                 0.0   \n",
       "\n",
       "   GarageType_BuiltIn  GarageType_CarPort  GarageType_Detchd  \\\n",
       "0                 0.0                 0.0                0.0   \n",
       "1                 0.0                 0.0                0.0   \n",
       "2                 0.0                 0.0                1.0   \n",
       "3                 0.0                 0.0                0.0   \n",
       "4                 0.0                 0.0                0.0   \n",
       "\n",
       "   GarageType_missing  GarageFinish_Fin  GarageFinish_RFn  GarageFinish_Unf  \\\n",
       "0                 0.0               1.0               0.0               0.0   \n",
       "1                 0.0               0.0               1.0               0.0   \n",
       "2                 0.0               0.0               0.0               1.0   \n",
       "3                 0.0               0.0               1.0               0.0   \n",
       "4                 0.0               0.0               1.0               0.0   \n",
       "\n",
       "   GarageFinish_missing  \n",
       "0                   0.0  \n",
       "1                   0.0  \n",
       "2                   0.0  \n",
       "3                   0.0  \n",
       "4                   0.0  \n",
       "\n",
       "[5 rows x 200 columns]"
      ]
     },
     "execution_count": 33,
     "metadata": {},
     "output_type": "execute_result"
    }
   ],
   "source": [
    "X_train_all.head()"
   ]
  },
  {
   "cell_type": "code",
   "execution_count": 34,
   "metadata": {},
   "outputs": [
    {
     "name": "stdout",
     "output_type": "stream",
     "text": [
      "Total number of coefficients:  200\n"
     ]
    },
    {
     "ename": "NameError",
     "evalue": "name 'coef_' is not defined",
     "output_type": "error",
     "traceback": [
      "\u001b[1;31m---------------------------------------------------------------------------\u001b[0m",
      "\u001b[1;31mNameError\u001b[0m                                 Traceback (most recent call last)",
      "\u001b[1;32m<ipython-input-34-2628dbe7361a>\u001b[0m in \u001b[0;36m<module>\u001b[1;34m\u001b[0m\n\u001b[1;32m----> 1\u001b[1;33m \u001b[0mlinreg_coefs\u001b[0m \u001b[1;33m=\u001b[0m \u001b[0meval_coefficients\u001b[0m\u001b[1;33m(\u001b[0m\u001b[0mlinreg\u001b[0m\u001b[1;33m,\u001b[0m \u001b[0mmodel_cols\u001b[0m\u001b[1;33m)\u001b[0m\u001b[1;33m\u001b[0m\u001b[1;33m\u001b[0m\u001b[0m\n\u001b[0m",
      "\u001b[1;32m<ipython-input-28-ba700a8b9015>\u001b[0m in \u001b[0;36meval_coefficients\u001b[1;34m(model, column_names)\u001b[0m\n\u001b[0;32m     14\u001b[0m \u001b[1;33m\u001b[0m\u001b[0m\n\u001b[0;32m     15\u001b[0m     \u001b[0mprint\u001b[0m\u001b[1;33m(\u001b[0m\u001b[1;34m'Total number of coefficients: '\u001b[0m\u001b[1;33m,\u001b[0m \u001b[0mlen\u001b[0m\u001b[1;33m(\u001b[0m\u001b[0mmodel\u001b[0m\u001b[1;33m.\u001b[0m\u001b[0mcoef_\u001b[0m\u001b[1;33m)\u001b[0m\u001b[1;33m)\u001b[0m\u001b[1;33m\u001b[0m\u001b[1;33m\u001b[0m\u001b[0m\n\u001b[1;32m---> 16\u001b[1;33m     \u001b[0mprint\u001b[0m\u001b[1;33m(\u001b[0m\u001b[1;34m'Coefficients close to zero: '\u001b[0m\u001b[1;33m,\u001b[0m \u001b[0msum\u001b[0m\u001b[1;33m(\u001b[0m\u001b[0mabs\u001b[0m\u001b[1;33m(\u001b[0m\u001b[0mmodel\u001b[0m\u001b[1;33m,\u001b[0m\u001b[0mcoef_\u001b[0m\u001b[1;33m)\u001b[0m \u001b[1;33m<\u001b[0m \u001b[1;36m10\u001b[0m\u001b[1;33m**\u001b[0m\u001b[1;33m(\u001b[0m\u001b[1;33m-\u001b[0m\u001b[1;36m10\u001b[0m\u001b[1;33m)\u001b[0m\u001b[1;33m)\u001b[0m\u001b[1;33m)\u001b[0m\u001b[1;33m\u001b[0m\u001b[1;33m\u001b[0m\u001b[0m\n\u001b[0m\u001b[0;32m     17\u001b[0m     \u001b[0mprint\u001b[0m\u001b[1;33m(\u001b[0m\u001b[1;34mf'Intercept: (model.intercept_)'\u001b[0m\u001b[1;33m)\u001b[0m\u001b[1;33m\u001b[0m\u001b[1;33m\u001b[0m\u001b[0m\n\u001b[0;32m     18\u001b[0m \u001b[1;33m\u001b[0m\u001b[0m\n",
      "\u001b[1;31mNameError\u001b[0m: name 'coef_' is not defined"
     ]
    }
   ],
   "source": [
    "linreg_coefs = eval_coefficients(linreg, model_cols)"
   ]
  },
  {
   "cell_type": "markdown",
   "metadata": {},
   "source": [
    "**Evaluate**\n",
    "\n",
    "- \n"
   ]
  },
  {
   "cell_type": "code",
   "execution_count": 35,
   "metadata": {},
   "outputs": [],
   "source": [
    "# Let's wrap up that coefficient exploration in a function\n"
   ]
  },
  {
   "cell_type": "markdown",
   "metadata": {},
   "source": [
    "## Fitting Ridge and Lasso\n",
    "\n",
    "* https://scikit-learn.org/stable/modules/generated/sklearn.linear_model.Lasso.html\n",
    "* https://scikit-learn.org/stable/modules/generated/sklearn.linear_model.Ridge.html"
   ]
  },
  {
   "cell_type": "markdown",
   "metadata": {},
   "source": [
    "### LASSO"
   ]
  },
  {
   "cell_type": "code",
   "execution_count": 36,
   "metadata": {},
   "outputs": [
    {
     "name": "stdout",
     "output_type": "stream",
     "text": [
      "Train R2: 0.8901917658981585\n",
      "Test R2: 0.8615905414873005\n",
      "******\n",
      "Train MSE: 666694668.2421193\n",
      "Test MSE: 969601032.6483971\n",
      "******\n",
      "Train RSME: 25820.431217199286\n",
      "Test RSME: 31138.417311231427\n"
     ]
    },
    {
     "name": "stderr",
     "output_type": "stream",
     "text": [
      "C:\\Users\\Jessica Yoon\\anaconda3\\lib\\site-packages\\sklearn\\linear_model\\_coordinate_descent.py:476: ConvergenceWarning: Objective did not converge. You might want to increase the number of iterations. Duality gap: 32074011488.252747, tolerance: 664823241.805396\n",
      "  positive)\n"
     ]
    }
   ],
   "source": [
    "from sklearn.linear_model import Lasso\n",
    "\n",
    "lasso = Lasso() # Lasso is also known as the L1 norm \n",
    "\n",
    "# Fit\n",
    "lasso.fit(X_train_all, y_train)\n",
    "\n",
    "# Predict\n",
    "l_train_preds = lasso.predict(X_train_all)\n",
    "l_test_preds = lasso.predict(X_test_all)\n",
    "\n",
    "# Evaluate\n",
    "evaluate(y_train, l_train_preds, y_test, l_test_preds)"
   ]
  },
  {
   "cell_type": "code",
   "execution_count": 37,
   "metadata": {},
   "outputs": [],
   "source": [
    "# Adjust HYPERPARAMETERS -- check documentation!\n",
    "lasso_v2 = Lasso(alpha=5)\n",
    "\n",
    "lasso_v2.fit(X_train_all, y_train)\n",
    "\n",
    "l_train_preds_v2 = lasso_v2.predict(X_train_all)\n",
    "l_test_preds_v2 = lasso_v2.predict(X_test_all)"
   ]
  },
  {
   "cell_type": "code",
   "execution_count": 39,
   "metadata": {},
   "outputs": [
    {
     "name": "stdout",
     "output_type": "stream",
     "text": [
      "Train R2: 0.8900309290076956\n",
      "Test R2: 0.864492031949982\n",
      "******\n",
      "Train MSE: 667671180.5975481\n",
      "Test MSE: 949275195.244898\n",
      "******\n",
      "Train RSME: 25839.333981307416\n",
      "Test RSME: 30810.30988557074\n"
     ]
    }
   ],
   "source": [
    "evaluate(y_train, l_train_preds_v2, y_test, l_test_preds_v2)"
   ]
  },
  {
   "cell_type": "code",
   "execution_count": 40,
   "metadata": {},
   "outputs": [
    {
     "name": "stdout",
     "output_type": "stream",
     "text": [
      "Total number of coefficients:  200\n"
     ]
    },
    {
     "ename": "NameError",
     "evalue": "name 'coef_' is not defined",
     "output_type": "error",
     "traceback": [
      "\u001b[1;31m---------------------------------------------------------------------------\u001b[0m",
      "\u001b[1;31mNameError\u001b[0m                                 Traceback (most recent call last)",
      "\u001b[1;32m<ipython-input-40-0f8c145b179d>\u001b[0m in \u001b[0;36m<module>\u001b[1;34m\u001b[0m\n\u001b[0;32m      1\u001b[0m \u001b[1;31m# Check Lasso Coefficients\u001b[0m\u001b[1;33m\u001b[0m\u001b[1;33m\u001b[0m\u001b[1;33m\u001b[0m\u001b[0m\n\u001b[1;32m----> 2\u001b[1;33m \u001b[0mlasso_coefs\u001b[0m \u001b[1;33m=\u001b[0m \u001b[0meval_coefficients\u001b[0m\u001b[1;33m(\u001b[0m\u001b[0mlasso_v2\u001b[0m\u001b[1;33m,\u001b[0m \u001b[0mmodel_cols\u001b[0m\u001b[1;33m)\u001b[0m\u001b[1;33m\u001b[0m\u001b[1;33m\u001b[0m\u001b[0m\n\u001b[0m",
      "\u001b[1;32m<ipython-input-28-ba700a8b9015>\u001b[0m in \u001b[0;36meval_coefficients\u001b[1;34m(model, column_names)\u001b[0m\n\u001b[0;32m     14\u001b[0m \u001b[1;33m\u001b[0m\u001b[0m\n\u001b[0;32m     15\u001b[0m     \u001b[0mprint\u001b[0m\u001b[1;33m(\u001b[0m\u001b[1;34m'Total number of coefficients: '\u001b[0m\u001b[1;33m,\u001b[0m \u001b[0mlen\u001b[0m\u001b[1;33m(\u001b[0m\u001b[0mmodel\u001b[0m\u001b[1;33m.\u001b[0m\u001b[0mcoef_\u001b[0m\u001b[1;33m)\u001b[0m\u001b[1;33m)\u001b[0m\u001b[1;33m\u001b[0m\u001b[1;33m\u001b[0m\u001b[0m\n\u001b[1;32m---> 16\u001b[1;33m     \u001b[0mprint\u001b[0m\u001b[1;33m(\u001b[0m\u001b[1;34m'Coefficients close to zero: '\u001b[0m\u001b[1;33m,\u001b[0m \u001b[0msum\u001b[0m\u001b[1;33m(\u001b[0m\u001b[0mabs\u001b[0m\u001b[1;33m(\u001b[0m\u001b[0mmodel\u001b[0m\u001b[1;33m,\u001b[0m\u001b[0mcoef_\u001b[0m\u001b[1;33m)\u001b[0m \u001b[1;33m<\u001b[0m \u001b[1;36m10\u001b[0m\u001b[1;33m**\u001b[0m\u001b[1;33m(\u001b[0m\u001b[1;33m-\u001b[0m\u001b[1;36m10\u001b[0m\u001b[1;33m)\u001b[0m\u001b[1;33m)\u001b[0m\u001b[1;33m)\u001b[0m\u001b[1;33m\u001b[0m\u001b[1;33m\u001b[0m\u001b[0m\n\u001b[0m\u001b[0;32m     17\u001b[0m     \u001b[0mprint\u001b[0m\u001b[1;33m(\u001b[0m\u001b[1;34mf'Intercept: (model.intercept_)'\u001b[0m\u001b[1;33m)\u001b[0m\u001b[1;33m\u001b[0m\u001b[1;33m\u001b[0m\u001b[0m\n\u001b[0;32m     18\u001b[0m \u001b[1;33m\u001b[0m\u001b[0m\n",
      "\u001b[1;31mNameError\u001b[0m: name 'coef_' is not defined"
     ]
    }
   ],
   "source": [
    "# Check Lasso Coefficients\n",
    "lasso_coefs = eval_coefficients(lasso_v2, model_cols)"
   ]
  },
  {
   "cell_type": "markdown",
   "metadata": {},
   "source": [
    "### Ridge"
   ]
  },
  {
   "cell_type": "code",
   "execution_count": 41,
   "metadata": {
    "scrolled": true
   },
   "outputs": [
    {
     "name": "stdout",
     "output_type": "stream",
     "text": [
      "Train R2: 0.8887013079926785\n",
      "Test R2: 0.8668141030170737\n",
      "******\n",
      "Train MSE: 675743901.6347737\n",
      "Test MSE: 933008369.7784258\n",
      "******\n",
      "Train RSME: 25995.07456490121\n",
      "Test RSME: 30545.185705417243\n"
     ]
    }
   ],
   "source": [
    "from sklearn.linear_model import Ridge\n",
    "\n",
    "ridge = Ridge() # Ridge is also known as the L2 norm\n",
    "\n",
    "# Fit\n",
    "ridge.fit(X_train_all, y_train)\n",
    "\n",
    "# Predict\n",
    "r_train_preds = ridge.predict(X_train_all)\n",
    "r_test_preds = ridge.predict(X_test_all)\n",
    "\n",
    "# Evaluate\n",
    "evaluate(y_train, r_train_preds, y_test, r_test_preds)"
   ]
  },
  {
   "cell_type": "code",
   "execution_count": null,
   "metadata": {},
   "outputs": [],
   "source": [
    "# Adjust HYPERPARAMETERS\n"
   ]
  },
  {
   "cell_type": "code",
   "execution_count": null,
   "metadata": {},
   "outputs": [],
   "source": [
    "# Check Ridge Coefficients\n"
   ]
  },
  {
   "cell_type": "markdown",
   "metadata": {},
   "source": [
    "### Let's Discuss\n",
    "\n",
    "- Ridge works better with multicolinearity because it constrains certain coefficients so that two features that drive y, it helps one catch.\n",
    "\n",
    "Lasso erases\n"
   ]
  },
  {
   "cell_type": "markdown",
   "metadata": {},
   "source": [
    "## Ridge & Lasso: Other benefits\n",
    "\n",
    "### Ridge:\n",
    "* We can \"shrink down\" prediction variables effects instead of deleting/zeroing them\n",
    "* When you have features with high multicollinearity, the coefficients are automatically spread across them (you won't have redundancy)\n",
    "* Since includes all features it can be computationally expensive (for many variables)\n",
    "\n",
    "### Lasso:\n",
    "* When you have a lot of variables it performs feature selection for you!\n",
    "* Multicollinearity is also dealt with\n"
   ]
  },
  {
   "cell_type": "markdown",
   "metadata": {},
   "source": [
    "### Por que no los dos??\n",
    "\n",
    "Enter ElasticNet: https://scikit-learn.org/stable/modules/generated/sklearn.linear_model.ElasticNet.html"
   ]
  },
  {
   "cell_type": "code",
   "execution_count": null,
   "metadata": {},
   "outputs": [],
   "source": []
  }
 ],
 "metadata": {
  "kernelspec": {
   "display_name": "learn-env",
   "language": "python",
   "name": "learn-env"
  },
  "language_info": {
   "codemirror_mode": {
    "name": "ipython",
    "version": 3
   },
   "file_extension": ".py",
   "mimetype": "text/x-python",
   "name": "python",
   "nbconvert_exporter": "python",
   "pygments_lexer": "ipython3",
   "version": "3.7.6"
  }
 },
 "nbformat": 4,
 "nbformat_minor": 4
}
